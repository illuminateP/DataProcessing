{
 "cells": [
  {
   "cell_type": "markdown",
   "id": "64c97929-c421-4021-b335-1e9e8aea57a1",
   "metadata": {},
   "source": [
    "# 1강"
   ]
  },
  {
   "cell_type": "code",
   "execution_count": 1,
   "id": "c16ded37-f028-48c1-8aca-b3d389d32347",
   "metadata": {},
   "outputs": [],
   "source": [
    "import numpy as np"
   ]
  },
  {
   "cell_type": "code",
   "execution_count": 2,
   "id": "90c737b6-f640-444b-a598-b2a1f55ff629",
   "metadata": {},
   "outputs": [
    {
     "name": "stdout",
     "output_type": "stream",
     "text": [
      "a is [2 3 4] , and its type is <class 'numpy.ndarray'>\n"
     ]
    }
   ],
   "source": [
    "a = np.array([2, 3, 4]) # 다차원 배열을 리스트로 생성\n",
    "# 넘파이의 가장 기본이 되는 다차원 배열은 array() 함수와 리스트(또는 튜플)를 이용하여 생성한다.\n",
    "print(f'a is {a} , and its type is {type(a)}')"
   ]
  },
  {
   "cell_type": "code",
   "execution_count": 3,
   "id": "d939ea7d-0759-46a3-834a-2a5a8f4c2eac",
   "metadata": {},
   "outputs": [
    {
     "name": "stdout",
     "output_type": "stream",
     "text": [
      "b is [1 3 4] , and its type is <class 'numpy.ndarray'>\n"
     ]
    }
   ],
   "source": [
    "b = np.array((1,3,4)) # 튜플로도 선언할 수 있다.\n",
    "print(f'b is {b} , and its type is {type(b)}')"
   ]
  },
  {
   "cell_type": "code",
   "execution_count": 4,
   "id": "9caeb887-8faf-48f8-b384-c3756e72fc84",
   "metadata": {},
   "outputs": [
    {
     "name": "stdout",
     "output_type": "stream",
     "text": [
      "c is [[2 3 4]\n",
      " [1 3 4]] , and its type is <class 'numpy.ndarray'>\n"
     ]
    }
   ],
   "source": [
    "c = np.array([[2,3,4],[1,3,4]])\n",
    "print(f'c is {c} , and its type is {type(c)}')"
   ]
  },
  {
   "cell_type": "markdown",
   "id": "86f02c4e-ab68-48ae-bad7-184ff361d2ec",
   "metadata": {},
   "source": [
    " "
   ]
  },
  {
   "cell_type": "markdown",
   "id": "4f794914-f93e-42f7-8d34-cb8ad882eb5c",
   "metadata": {},
   "source": [
    "### 2차원 배열 "
   ]
  },
  {
   "cell_type": "code",
   "execution_count": 5,
   "id": "ad7d2e1a-93f4-4889-96ae-2da7c0d000bc",
   "metadata": {},
   "outputs": [
    {
     "data": {
      "text/plain": [
       "array([[0, 1, 2],\n",
       "       [3, 4, 5],\n",
       "       [6, 7, 8]])"
      ]
     },
     "execution_count": 5,
     "metadata": {},
     "output_type": "execute_result"
    }
   ],
   "source": [
    "b = np.array([[0, 1, 2],[3, 4, 5],[6, 7, 8]]) # 2차원 배열 생성\n",
    "b"
   ]
  },
  {
   "cell_type": "markdown",
   "id": "58cc1bce-20ec-49b1-947f-f48143a0deba",
   "metadata": {},
   "source": [
    "### 3차원 배열"
   ]
  },
  {
   "cell_type": "code",
   "execution_count": 6,
   "id": "86a48fc6-baf2-417a-bf99-dc3dd8fe4db3",
   "metadata": {},
   "outputs": [
    {
     "name": "stdout",
     "output_type": "stream",
     "text": [
      "[[[ 0  1  2]\n",
      "  [ 3  4  5]\n",
      "  [ 6  7  8]]\n",
      "\n",
      " [[ 9 10 11]\n",
      "  [12 13 14]\n",
      "  [15 16 17]]\n",
      "\n",
      " [[18 19 20]\n",
      "  [21 22 23]\n",
      "  [24 25 26]]]\n"
     ]
    },
    {
     "data": {
      "text/plain": [
       "25"
      ]
     },
     "execution_count": 6,
     "metadata": {},
     "output_type": "execute_result"
    }
   ],
   "source": [
    "c = np.array([ [[ 0, 1, 2],[ 3, 4, 5],[ 6, 7, 8]],\n",
    "[[ 9, 10, 11],[12, 13, 14],[15, 16, 17]],\n",
    "[[18, 19, 20],[21, 22, 23],[24, 25, 26]]\n",
    "]) # 3차원 배열 생성\n",
    "print(c)\n",
    "c[2][2][1]\n",
    "# 인덱스가 0부터 시작함에 유의 !"
   ]
  },
  {
   "cell_type": "markdown",
   "id": "3ddc42c1-5733-4262-a445-937678912bdf",
   "metadata": {},
   "source": [
    "### 다차원 배열의 속성들"
   ]
  },
  {
   "cell_type": "code",
   "execution_count": 7,
   "id": "089c1078-def5-4817-8d45-932bf4492de3",
   "metadata": {},
   "outputs": [
    {
     "name": "stdout",
     "output_type": "stream",
     "text": [
      "[[2 3 4]]\n",
      "a.shape is (1, 3)\n",
      "a.ndim is 2\n",
      "a.dtype is int32\n",
      "a.itemsize is 4 (byte)\n",
      "a.size is 3\n"
     ]
    }
   ],
   "source": [
    "a = np.array([[2,3,4]])\n",
    "\n",
    "print(a)\n",
    "# 형상\n",
    "print(f'a.shape is {a.shape}')\n",
    "# 차원\n",
    "print(f'a.ndim is {a.ndim}')\n",
    "# 자료형\n",
    "print(f'a.dtype is {a.dtype}')\n",
    "#원소의 크기(byte)\n",
    "print(f'a.itemsize is {a.itemsize} (byte)')\n",
    "# 원소의 개수\n",
    "print(f'a.size is {a.size}')\n",
    "\n",
    "# 형상 , 차원 , 자료형 , 원소의 크기(byte) , 원소의 개수\n",
    "# 형상이 튜플로 리턴되는 이유 = immutable\n",
    "# 형상이 (3,) 로 리턴되는 이유는 튜플에서 (3) 과 (3,)이 다르기 때문이다.\n",
    "# ndim = \"number of dimensions'"
   ]
  },
  {
   "cell_type": "markdown",
   "id": "e9a75f96-67ae-42a4-b300-00d9d4590ddc",
   "metadata": {},
   "source": [
    "### ★ 원소가 1개인 튜플은 ,가 없으면 자료형으로 인식한다."
   ]
  },
  {
   "cell_type": "code",
   "execution_count": 8,
   "id": "f27af0ed-66f4-4f69-bc81-25f44753c982",
   "metadata": {},
   "outputs": [
    {
     "name": "stdout",
     "output_type": "stream",
     "text": [
      "x is 3 , and its type is <class 'int'>\n"
     ]
    }
   ],
   "source": [
    "x = (3)\n",
    "print(f'x is {x} , and its type is {type(x)}')"
   ]
  },
  {
   "cell_type": "code",
   "execution_count": 9,
   "id": "61a4b77e-b27e-4f29-996d-1972aaf3b011",
   "metadata": {},
   "outputs": [
    {
     "name": "stdout",
     "output_type": "stream",
     "text": [
      "now x is (3,) , and its type is <class 'tuple'>\n"
     ]
    }
   ],
   "source": [
    "x = (3,)\n",
    "print(f'now x is {x} , and its type is {type(x)}')"
   ]
  },
  {
   "cell_type": "markdown",
   "id": "7088b6d8-8e25-429f-9681-8d9dcdfc64d2",
   "metadata": {},
   "source": [
    "### 2개 부터는 ,가 없어도 된다."
   ]
  },
  {
   "cell_type": "code",
   "execution_count": 10,
   "id": "df9eea35-fa22-4a9c-b058-5477b13175b7",
   "metadata": {},
   "outputs": [
    {
     "name": "stdout",
     "output_type": "stream",
     "text": [
      "x is (3, 4) , and its type is <class 'tuple'>\n",
      "now x is (3, 4) , and its type is <class 'tuple'>\n"
     ]
    }
   ],
   "source": [
    "x = (3,4)\n",
    "print(f'x is {x} , and its type is {type(x)}')\n",
    "x = (3,4,)\n",
    "print(f'now x is {x} , and its type is {type(x)}')"
   ]
  },
  {
   "cell_type": "markdown",
   "id": "c677db09-5350-496a-84e6-49f0e38779c3",
   "metadata": {},
   "source": [
    " "
   ]
  },
  {
   "cell_type": "markdown",
   "id": "ccbe5fb7-e41e-46f6-9812-354a591ac4c8",
   "metadata": {},
   "source": [
    " "
   ]
  },
  {
   "cell_type": "markdown",
   "id": "e9cdf356-e625-4ba2-994b-5ee378df1cbf",
   "metadata": {},
   "source": [
    "### 리스트의 연산"
   ]
  },
  {
   "cell_type": "code",
   "execution_count": 11,
   "id": "c935deb9-b333-436f-833d-634dfba1453d",
   "metadata": {},
   "outputs": [
    {
     "name": "stdout",
     "output_type": "stream",
     "text": [
      "[11, 22, 33]\n",
      "[2, 3, 4]\n",
      "[11, 22, 33, 2, 3, 4]\n",
      "[11, 22, 33, 11, 22, 33]\n"
     ]
    }
   ],
   "source": [
    "li = [11,22,33]\n",
    "li1 = [2,3,4]\n",
    "\n",
    "print(li)\n",
    "print(li1)\n",
    "\n",
    "# 리스트 사이에는 더하기가 성립한다.\n",
    "print(li+li1)\n",
    "\n",
    "# 실수 배도 가능하다.\n",
    "print(li*2)\n",
    "\n",
    "# 그러나, 리스트끼리 곱할 수는 없고\n",
    "## TypeError: can't multiply sequence by non-int of type 'list'\n",
    "### print(li*li1)\n",
    "\n",
    "# 뺼 수도 없으며\n",
    "## TypeError: unsupported operand type(s) for -: 'list' and 'list'\n",
    "### print(li-li1)\n",
    "\n",
    "# 나누기도 불가능하다.\n",
    "## TypeError: unsupported operand type(s) for /: 'list' and 'list'\n",
    "### print(li/li1)"
   ]
  },
  {
   "cell_type": "markdown",
   "id": "99001052-3c6c-4e1c-a8ef-0625392bd708",
   "metadata": {},
   "source": [
    " "
   ]
  },
  {
   "cell_type": "markdown",
   "id": "aa42ff62-ea54-4377-9f62-5db614513d7e",
   "metadata": {},
   "source": [
    " "
   ]
  },
  {
   "cell_type": "markdown",
   "id": "6c4f0969-650d-4499-ad38-82b2bc8b5e86",
   "metadata": {},
   "source": [
    "### 배열의 연산"
   ]
  },
  {
   "cell_type": "markdown",
   "id": "b2521df8-83c6-4242-bafb-881b12ad6744",
   "metadata": {},
   "source": [
    "### 크기가 같은 배열(행렬)은 합 , 차 , 곱 , 나눗셈까지 정의된다."
   ]
  },
  {
   "cell_type": "code",
   "execution_count": 11,
   "id": "eee99daf-b737-4e75-bb25-0804e7ac6d23",
   "metadata": {},
   "outputs": [
    {
     "name": "stdout",
     "output_type": "stream",
     "text": [
      "a is [10 20 30], b is [1 2 3]\n",
      "a + b is , [11 22 33]\n",
      "a - b is , [ 9 18 27]\n",
      "a * b is , [10 40 90]\n",
      "a / b is , [10. 10. 10.]\n",
      "a * 2 is , [20 40 60]\n"
     ]
    }
   ],
   "source": [
    "a = np.array([10, 20, 30])\n",
    "b = np.array([1, 2, 3])\n",
    "\n",
    "print(f'a is {a}, b is {b}')\n",
    "print(f'a + b is , {a + b}')\n",
    "print(f'a - b is , {a - b}')\n",
    "\n",
    "# 행렬곱과 다른 연산임에 유의\n",
    "print(f'a * b is , {a * b}')\n",
    "print(f'a / b is , {a / b}')\n",
    "print(f'a * 2 is , {a * 2}')"
   ]
  },
  {
   "cell_type": "code",
   "execution_count": 15,
   "id": "d0560831-5f9b-4655-b57d-6c8f7eed16da",
   "metadata": {},
   "outputs": [
    {
     "name": "stdout",
     "output_type": "stream",
     "text": [
      "10 * a is , [100 200 300]\n",
      "★ 위 연산은 [10,10,10] * [10,20,30] 으로 변환되어 계산되는데, 이처럼 스칼라 10을 [10,10,10]의 벡터로 확장시키는 것을 브로드캐스팅(broadcasting)이라 한다.\n",
      "a + 10 is , [20 30 40]\n"
     ]
    },
    {
     "data": {
      "text/plain": [
       "array([1., 2., 3.])"
      ]
     },
     "execution_count": 15,
     "metadata": {},
     "output_type": "execute_result"
    }
   ],
   "source": [
    "print(f'10 * a is , {10*a}')\n",
    "print('★ 위 연산은 [10,10,10] * [10,20,30] 으로 변환되어 계산되는데, 이처럼 스칼라 10을 [10,10,10]의 벡터로 확장시키는 것을 브로드캐스팅(broadcasting)이라 한다.')\n",
    "print(f'a + 10 is , {10 + a}')\n",
    "\n",
    "a / 10"
   ]
  },
  {
   "cell_type": "markdown",
   "id": "1e437afe-d46f-4ecd-bbe6-dffcb13c30e6",
   "metadata": {},
   "source": [
    "배열끼리 차원이 달라도 broadcasting 해 연산한다."
   ]
  },
  {
   "cell_type": "code",
   "execution_count": 14,
   "id": "c4c9e1c7-eed2-4fde-91c0-5e7d22b5118f",
   "metadata": {},
   "outputs": [
    {
     "name": "stdout",
     "output_type": "stream",
     "text": [
      "li_a + li_b is [1, 2, 3, 10, 20, 30]\n",
      "a + b is [11 22 33]\n"
     ]
    }
   ],
   "source": [
    "li_a = [1,2,3]\n",
    "li_b = [10,20,30]\n",
    "print(f'li_a + li_b is {li_a + li_b}')\n",
    "print(f'a + b is {a+b}')"
   ]
  },
  {
   "cell_type": "markdown",
   "id": "32a22e22-7874-4725-83bd-2f9b763a3ef0",
   "metadata": {},
   "source": [
    "리스트 끼리의 덧셈은 extend지만 배열 끼리의 연산은 두 원소의 합이다."
   ]
  },
  {
   "cell_type": "code",
   "execution_count": 15,
   "id": "6bb8a512-e0a4-4635-a18b-ffa138427b83",
   "metadata": {},
   "outputs": [
    {
     "name": "stdout",
     "output_type": "stream",
     "text": [
      "arr_b + arr_c is [[12 23 34]\n",
      " [ 3  5  7]]\n"
     ]
    }
   ],
   "source": [
    "arr_b = np.array([[10,20,30] , [1,2,3]])\n",
    "arr_c = np.array([2,3,4])\n",
    "\n",
    "\n",
    "print(f'arr_b + arr_c is {arr_b + arr_c}')"
   ]
  },
  {
   "cell_type": "markdown",
   "id": "8d9c94b5-7b5e-4177-91b4-aec67a0ad076",
   "metadata": {},
   "source": [
    "### 초깃값을 지정하여 배열 생성"
   ]
  },
  {
   "cell_type": "code",
   "execution_count": 45,
   "id": "a4597b24-d531-400f-a96a-751723c6cfdb",
   "metadata": {},
   "outputs": [
    {
     "ename": "TypeError",
     "evalue": "Cannot interpret '3' as a data type",
     "output_type": "error",
     "traceback": [
      "\u001b[1;31m---------------------------------------------------------------------------\u001b[0m",
      "\u001b[1;31mTypeError\u001b[0m                                 Traceback (most recent call last)",
      "Cell \u001b[1;32mIn[45], line 1\u001b[0m\n\u001b[1;32m----> 1\u001b[0m arr_zeros \u001b[38;5;241m=\u001b[39m np\u001b[38;5;241m.\u001b[39mzeros(\u001b[38;5;241m1\u001b[39m,\u001b[38;5;241m3\u001b[39m) \u001b[38;5;66;03m# 초깃값이 0인 1 *3 배열 생성\u001b[39;00m\n\u001b[0;32m      2\u001b[0m arr_ones \u001b[38;5;241m=\u001b[39m np\u001b[38;5;241m.\u001b[39mones((\u001b[38;5;241m2\u001b[39m,\u001b[38;5;241m4\u001b[39m))\n",
      "\u001b[1;31mTypeError\u001b[0m: Cannot interpret '3' as a data type"
     ]
    }
   ],
   "source": [
    "arr_zeros = np.zeros((1,3)) # 초깃값이 0인 1 *3 배열 생성\n",
    "arr_ones = np.ones((2,4)) # 초깃값이 1인 2 * 4 배열 생성\n",
    "#np.full((n,m),x) ## 초깃값이 x인 n*m 배열 생성"
   ]
  },
  {
   "cell_type": "markdown",
   "id": "b83265a1-2e58-4cc7-9a52-34798f35ee04",
   "metadata": {},
   "source": [
    "### 단위행렬 생성"
   ]
  },
  {
   "cell_type": "code",
   "execution_count": 17,
   "id": "76c88e8b-b9ca-4dc2-b724-40cdcaf4e41e",
   "metadata": {},
   "outputs": [],
   "source": [
    "arr_eye = np.eye(3) # 3 * 3 단위행렬 생성"
   ]
  },
  {
   "cell_type": "markdown",
   "id": "ac126933-01cb-4789-bec4-20db475aa7c0",
   "metadata": {},
   "source": [
    "### 연속적인 값을 가지는 다차원 배열 생성"
   ]
  },
  {
   "cell_type": "markdown",
   "id": "0d141524-6b41-48f7-863b-7c1fba406099",
   "metadata": {},
   "source": [
    "range(n) : 0 ~ n-1 까지 n개!\n",
    "range(m, n) : m ~ n-1까지 m-n개\n",
    "range((m, n, s) : m ~ n까지 s만큼씩"
   ]
  },
  {
   "cell_type": "code",
   "execution_count": 18,
   "id": "fcb5a307-8687-4d7e-948e-21f271525b17",
   "metadata": {},
   "outputs": [],
   "source": [
    "m = 8\n",
    "n = 7\n",
    "# np.arange(m, n) # m부터 n 미만까지 연속적인 실수를 생성\n",
    "# np.arange(m, n, step) ## m부터 n 미만까지 step만큼 건너뛰며 연속적인 실수를 생성"
   ]
  },
  {
   "cell_type": "markdown",
   "id": "908a3b83-1d34-4fc5-908d-c575337b0ba7",
   "metadata": {},
   "source": [
    "### np.linspace(시작, 끝, 생성 개수) : linear spaced, 시작값 ~ 끝 값까지의 구간에 대해(마지막 값 포함) 생성 개수 만큼의 값을 등간격으로 생성"
   ]
  },
  {
   "cell_type": "code",
   "execution_count": 19,
   "id": "99d829ac-a326-468f-a112-5f47e34ce1d2",
   "metadata": {},
   "outputs": [
    {
     "data": {
      "text/plain": [
       "array([ 0.        ,  0.20408163,  0.40816327,  0.6122449 ,  0.81632653,\n",
       "        1.02040816,  1.2244898 ,  1.42857143,  1.63265306,  1.83673469,\n",
       "        2.04081633,  2.24489796,  2.44897959,  2.65306122,  2.85714286,\n",
       "        3.06122449,  3.26530612,  3.46938776,  3.67346939,  3.87755102,\n",
       "        4.08163265,  4.28571429,  4.48979592,  4.69387755,  4.89795918,\n",
       "        5.10204082,  5.30612245,  5.51020408,  5.71428571,  5.91836735,\n",
       "        6.12244898,  6.32653061,  6.53061224,  6.73469388,  6.93877551,\n",
       "        7.14285714,  7.34693878,  7.55102041,  7.75510204,  7.95918367,\n",
       "        8.16326531,  8.36734694,  8.57142857,  8.7755102 ,  8.97959184,\n",
       "        9.18367347,  9.3877551 ,  9.59183673,  9.79591837, 10.        ])"
      ]
     },
     "execution_count": 19,
     "metadata": {},
     "output_type": "execute_result"
    }
   ],
   "source": [
    "np.linspace(0,10,5) # 0부터 10까지 등간격으로 5개 == 4개의 구간으로 -> 0, 2.5, 5, 7.5, 10\n",
    "np.linspace(0,10) # num을 생략하면 default로 50개 생성 "
   ]
  },
  {
   "cell_type": "code",
   "execution_count": 49,
   "id": "be885c46-4cea-4538-b116-8eafb5d6ee1a",
   "metadata": {},
   "outputs": [
    {
     "data": {
      "text/plain": [
       "array([[3, 3]])"
      ]
     },
     "execution_count": 49,
     "metadata": {},
     "output_type": "execute_result"
    }
   ],
   "source": [
    "a = np.array([[1,1],[2,2],[3,3]])\n",
    "np.delete(a,np.s_[0:2],axis = 0)"
   ]
  },
  {
   "cell_type": "code",
   "execution_count": 39,
   "id": "aa759ef3-5fd6-46ee-ae3d-9e460cd0297f",
   "metadata": {},
   "outputs": [
    {
     "data": {
      "text/plain": [
       "array([[23, 35, 50],\n",
       "       [19, 43, 71],\n",
       "       [ 0,  3,  7]])"
      ]
     },
     "execution_count": 39,
     "metadata": {},
     "output_type": "execute_result"
    }
   ],
   "source": [
    "a = np.array( [ [35, 23, 50], [71, 43, 19], [3, 0, 7] ] )\n",
    "a.sort() # 배열의 오름차순 정렬, 디폴트 axis=1\n",
    "a"
   ]
  },
  {
   "cell_type": "code",
   "execution_count": 43,
   "id": "30f19e74-f11c-4c15-b8bf-e213c8543087",
   "metadata": {},
   "outputs": [
    {
     "data": {
      "text/plain": [
       "array([[ 3,  0,  7],\n",
       "       [35, 23, 19],\n",
       "       [71, 43, 50]])"
      ]
     },
     "execution_count": 43,
     "metadata": {},
     "output_type": "execute_result"
    }
   ],
   "source": [
    "a = np.array( [ [35, 23, 50], [71, 43, 19], [3, 0, 7] ] )\n",
    "a.sort(axis = 0) # 배열의 오름차순 정렬, 디폴트 axis=1\n",
    "a"
   ]
  },
  {
   "cell_type": "code",
   "execution_count": 29,
   "id": "d14c414e-f05c-4b24-ab9a-098e77644d90",
   "metadata": {},
   "outputs": [
    {
     "data": {
      "text/plain": [
       "array([1, 2, 3])"
      ]
     },
     "execution_count": 29,
     "metadata": {},
     "output_type": "execute_result"
    }
   ],
   "source": [
    "arr_2d = np.array( [ [1, 2, 3], [4, 5, 6], [7, 8, 9], [0, 1, 2] ] )\n",
    "\n",
    "arr_2d[0]"
   ]
  },
  {
   "cell_type": "code",
   "execution_count": null,
   "id": "4dbe5c67-e1f0-4614-a6d3-fc58becc9fcc",
   "metadata": {},
   "outputs": [],
   "source": []
  },
  {
   "cell_type": "code",
   "execution_count": null,
   "id": "347fcd97-b8a9-42ed-84c0-5536704d6c51",
   "metadata": {},
   "outputs": [],
   "source": []
  },
  {
   "cell_type": "markdown",
   "id": "55ff5f94-a21c-48d4-8c1e-a1a6b6eb106e",
   "metadata": {},
   "source": [
    "### 배열의 차원"
   ]
  },
  {
   "cell_type": "markdown",
   "id": "f827343c-7c2f-496a-983a-8ede9965246d",
   "metadata": {},
   "source": [
    "shape(arr) = (3,) -> 1차원 배열\n",
    "             (1,3) -> 2차원 배열"
   ]
  },
  {
   "cell_type": "markdown",
   "id": "f6a442d3-044e-4747-ac22-3504f25ae892",
   "metadata": {},
   "source": [
    "### ★ 2차원 배열은 [[로 시작하여 ]]로 닫아진다."
   ]
  },
  {
   "cell_type": "code",
   "execution_count": 20,
   "id": "c1a55186-bc05-4cda-8c13-2c4e56e9c1b4",
   "metadata": {},
   "outputs": [
    {
     "name": "stdout",
     "output_type": "stream",
     "text": [
      "(3, 1)\n",
      "(1, 3)\n",
      "(3,)\n"
     ]
    }
   ],
   "source": [
    "print(np.shape([[2],[3],[5]])) # 3행 1열의 '2차원' 배열\n",
    "print(np.shape([[1,2,3]])) # 1행 3열의 '2차원' 배열\n",
    "print(np.shape([1,2,3])) # 1행 3열의 '1차원'배열, (3,)로 표시됨에 유의!\n"
   ]
  },
  {
   "cell_type": "markdown",
   "id": "925fdbd1-63e6-4a37-a4b5-8d7c4cd38c01",
   "metadata": {},
   "source": [
    "### insert(배열,인덱스,삽입할 원소, axis = 축 설정(default = 1))"
   ]
  },
  {
   "cell_type": "code",
   "execution_count": 5,
   "id": "cd7db067-287d-454e-9345-d4383f0dd0ef",
   "metadata": {},
   "outputs": [
    {
     "name": "stdout",
     "output_type": "stream",
     "text": [
      "[1 2 3 4]\n"
     ]
    }
   ],
   "source": [
    "a = np.array([[1,3,4]])\n",
    "n = np.insert(a,1,2) # a의 1번 인덱스(2번째)에 2라는 원소를 삽입허지만, ★ 원본 배열을 건들지 않고 새로운 배열을 return\n",
    "print(n)"
   ]
  },
  {
   "cell_type": "code",
   "execution_count": 22,
   "id": "4bf17ac6-f5cd-4359-8b0f-355928cedb53",
   "metadata": {},
   "outputs": [],
   "source": [
    "b = np.array([[1,1],[2,2],[3,3],[4,4]])"
   ]
  },
  {
   "cell_type": "code",
   "execution_count": 23,
   "id": "7f19cda3-de42-4759-9de9-f7149cddf1e8",
   "metadata": {},
   "outputs": [
    {
     "name": "stdout",
     "output_type": "stream",
     "text": [
      "[[1 1]\n",
      " [4 4]\n",
      " [2 2]\n",
      " [3 3]\n",
      " [4 4]]\n",
      "\n",
      "\n",
      "[[1 4 1]\n",
      " [2 4 2]\n",
      " [3 4 3]\n",
      " [4 4 4]]\n",
      "\n",
      "\n",
      "[1 4 1 2 2 3 3 4 4]\n"
     ]
    }
   ],
   "source": [
    "c = np.insert(b, 1, 4, axis = 0) # index = 1인 행에 삽입, broadcasting, [4,4]로 바꿔서 계산\n",
    "print(c)\n",
    "print(\"\\n\")\n",
    "\n",
    "d = np.insert(b, 1, 4, axis = 1) # index = 1인 열에 삽입\n",
    "print(d)\n",
    "print(\"\\n\")\n",
    "\n",
    "e = np.insert(b, 1, 4) # ★ 전체를 1차원 배열로 바꿔서 index = 1인 위치에 삽입\n",
    "print(e)"
   ]
  },
  {
   "cell_type": "markdown",
   "id": "4614ad7d-8820-41f8-9322-4b0fa37098b2",
   "metadata": {},
   "source": [
    "### insert - ★ 추가"
   ]
  },
  {
   "cell_type": "code",
   "execution_count": 55,
   "id": "5ce6c05b-e0dc-4c6c-a37a-c226655a9413",
   "metadata": {},
   "outputs": [
    {
     "name": "stdout",
     "output_type": "stream",
     "text": [
      "[[ 1  0  3  0  5]\n",
      " [ 6  0  8  0 10]\n",
      " [11  0 13  0 15]]\n",
      "\n",
      "\n",
      "[[ 1  3  5]\n",
      " [ 0  0  0]\n",
      " [ 6  8 10]\n",
      " [ 0  0  0]\n",
      " [11 13 15]]\n"
     ]
    }
   ],
   "source": [
    "a = np.array([[1,3,5],[6,8,10],[11,13,15]])\n",
    "print(np.insert(a, [1,2], 0, axis = 1)) # a의 1번 index와 2번 index에 0을 삽입한다.\n",
    "print(\"\\n\")\n",
    "print(np.insert(a, [1,2], 0, axis = 0))"
   ]
  },
  {
   "cell_type": "markdown",
   "id": "1ab67604-1ec5-46e8-9e8b-60394c7f9c58",
   "metadata": {},
   "source": [
    "### ★ broadcasting은 Scalar 에 대해서만 적용된다"
   ]
  },
  {
   "cell_type": "code",
   "execution_count": 25,
   "id": "2d237c20-48cf-4c12-b5ff-8b543eaa34cf",
   "metadata": {},
   "outputs": [],
   "source": [
    "a = np.array([1,2,3])\n",
    "b = np.array([1,1])\n",
    "# print(a+b) ## ValueError: operands could not be broadcast together with shapes (3,) (2,) "
   ]
  },
  {
   "cell_type": "markdown",
   "id": "97b14482-b570-4bc4-99d0-c85f4e8128ca",
   "metadata": {},
   "source": [
    "### ★ np.flip(배열) : 원소 뒤집기"
   ]
  },
  {
   "cell_type": "code",
   "execution_count": 61,
   "id": "1ffb7f85-5ef1-4bdc-b6bf-74cabccff90c",
   "metadata": {},
   "outputs": [
    {
     "name": "stdout",
     "output_type": "stream",
     "text": [
      "[[1 2 3]\n",
      " [4 5 6]]\n",
      "\n",
      "\n",
      "[[6 5 4]\n",
      " [3 2 1]]\n",
      "\n",
      "\n",
      "[[3 2 1]\n",
      " [6 5 4]]\n",
      "\n",
      "\n",
      "[[4 5 6]\n",
      " [1 2 3]]\n"
     ]
    }
   ],
   "source": [
    "b = np.array([[1,2,3],[4,5,6]])\n",
    "print(b)\n",
    "print(\"\\n\")\n",
    "\n",
    "# 행 단위 뒤집기\n",
    "print(np.flip(b, axis = 1))\n",
    "print(\"\\n\")\n",
    "\n",
    "# 열 단위 뒤집기\n",
    "print(np.flip(b, axis = 0))"
   ]
  },
  {
   "cell_type": "markdown",
   "id": "7c67a4ca-ee49-4b22-95a2-755d5c9b0c33",
   "metadata": {},
   "source": [
    "### delete 함수"
   ]
  },
  {
   "cell_type": "code",
   "execution_count": 30,
   "id": "5555af36-0ba3-4f3c-91b8-4904dab3c477",
   "metadata": {},
   "outputs": [
    {
     "name": "stdout",
     "output_type": "stream",
     "text": [
      "<class 'list'>\n"
     ]
    },
    {
     "data": {
      "text/plain": [
       "array([[ 1,  3,  5],\n",
       "       [ 6,  8, 10],\n",
       "       [11, 13, 15]])"
      ]
     },
     "execution_count": 30,
     "metadata": {},
     "output_type": "execute_result"
    }
   ],
   "source": [
    "a = [[1,2,3,4,5],[6,7,8,9,10],[11,12,13,14,15]]\n",
    "print(type(a))\n",
    "np.delete(a,[1,3],axis = 1) # (1,3)으로 캐스팅해도 된다, 암시적 형변환."
   ]
  },
  {
   "cell_type": "markdown",
   "id": "a45d12c2-7d28-4262-bc9a-3a19fdf1622e",
   "metadata": {},
   "source": [
    "### slice 함수"
   ]
  },
  {
   "cell_type": "code",
   "execution_count": 28,
   "id": "b9b97d87-e86d-4175-958a-b62a157b0e65",
   "metadata": {},
   "outputs": [
    {
     "data": {
      "text/plain": [
       "array([[ 1,  5],\n",
       "       [ 6, 10],\n",
       "       [11, 15]])"
      ]
     },
     "execution_count": 28,
     "metadata": {},
     "output_type": "execute_result"
    }
   ],
   "source": [
    "a = [[1,2,3,4,5],[6,7,8,9,10],[11,12,13,14,15]]\n",
    "np.delete(a, slice(1,-1), axis = 1)"
   ]
  },
  {
   "cell_type": "markdown",
   "id": "7085c7e1-3e5b-4947-bbd2-6f2064b0c96b",
   "metadata": {},
   "source": [
    "### cf) list.insert"
   ]
  },
  {
   "cell_type": "code",
   "execution_count": 29,
   "id": "535b02e6-3373-4699-aafd-01563abdc5be",
   "metadata": {},
   "outputs": [
    {
     "data": {
      "text/plain": [
       "[1]"
      ]
     },
     "execution_count": 29,
     "metadata": {},
     "output_type": "execute_result"
    }
   ],
   "source": [
    "li = []\n",
    "li.insert(0,1) # insert(1,1)이여도 가능하다\n",
    "li\n"
   ]
  },
  {
   "cell_type": "markdown",
   "id": "c712cc9b-780d-4bb2-93b4-072d5e076a52",
   "metadata": {},
   "source": [
    "### 참고 : https://kr.piliapp.com/symbol/subscript-superscript/"
   ]
  },
  {
   "cell_type": "code",
   "execution_count": null,
   "id": "8a87e999-b551-4a3d-aaa1-ed40cdb3c269",
   "metadata": {},
   "outputs": [],
   "source": []
  }
 ],
 "metadata": {
  "kernelspec": {
   "display_name": "Python 3 (ipykernel)",
   "language": "python",
   "name": "python3"
  },
  "language_info": {
   "codemirror_mode": {
    "name": "ipython",
    "version": 3
   },
   "file_extension": ".py",
   "mimetype": "text/x-python",
   "name": "python",
   "nbconvert_exporter": "python",
   "pygments_lexer": "ipython3",
   "version": "3.12.4"
  }
 },
 "nbformat": 4,
 "nbformat_minor": 5
}
