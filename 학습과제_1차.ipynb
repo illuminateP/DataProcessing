{
 "cells": [
  {
   "cell_type": "code",
   "execution_count": 1,
   "id": "48ec9838-cc2d-4edf-8492-96381858dd25",
   "metadata": {},
   "outputs": [],
   "source": [
    "import numpy as np"
   ]
  },
  {
   "cell_type": "markdown",
   "id": "c35b8696-1f24-48d4-a1bb-804df603ee60",
   "metadata": {},
   "source": [
    "## ▣ 선다형 문제"
   ]
  },
  {
   "cell_type": "markdown",
   "id": "a2ff3524-11d5-4b05-bfdb-85d6027a11c3",
   "metadata": {},
   "source": [
    "### [문제1] Numpy에서 \"브로드캐스팅(broadcasting)\"이란 무엇인가?<br>\n",
    "① 배열의 크기를 변경하는 방법<br>\n",
    "② 두 배열 간의 자동으로 크기 조정을 통한 연산<br>\n",
    "③ 배열의 요소를 자동으로 삭제하는 방법<br>\n",
    "④ 배열의 데이터를 외부 파일로 저장하는 방법<br>"
   ]
  },
  {
   "cell_type": "markdown",
   "id": "0b5fc6bb-9514-4171-afc1-6d5399bd11eb",
   "metadata": {},
   "source": [
    " "
   ]
  },
  {
   "cell_type": "markdown",
   "id": "4e269fbf-2ecd-47d6-a702-de1c51a55c7f",
   "metadata": {},
   "source": [
    "답) 2"
   ]
  },
  {
   "cell_type": "code",
   "execution_count": 2,
   "id": "ef008349-e8ad-41d8-b949-7274cf4bce63",
   "metadata": {},
   "outputs": [
    {
     "name": "stdout",
     "output_type": "stream",
     "text": [
      "10 * a is , [100 200 300]\n",
      "★ 위 연산은 [10,10,10] * [10,20,30] 으로 변환되어 계산되는데, 이처럼 스칼라 10을 [10,10,10]의 벡터로 확장시키는 것을 브로드캐스팅(broadcasting)이라 한다.\n"
     ]
    }
   ],
   "source": [
    "a = np.array([10, 20, 30])\n",
    "print(f'10 * a is , {10*a}')\n",
    "print('★ 위 연산은 [10,10,10] * [10,20,30] 으로 변환되어 계산되는데, 이처럼 스칼라 10을 [10,10,10]의 벡터로 확장시키는 것을 브로드캐스팅(broadcasting)이라 한다.')"
   ]
  },
  {
   "cell_type": "markdown",
   "id": "388873ea-8ad5-4010-b9ea-26f1aae81db7",
   "metadata": {},
   "source": [
    " "
   ]
  },
  {
   "cell_type": "markdown",
   "id": "f0f2e39b-f6ad-4e51-8412-2f74dfd65bc9",
   "metadata": {},
   "source": [
    "### [문제2] Numpy에서 배열의 차원을 확인하기 위한 속성은 무엇인가?<br>\n",
    "① size<br>\n",
    "② shape<br>\n",
    "③ ndim<br>\n",
    "④ dtype<br>"
   ]
  },
  {
   "cell_type": "markdown",
   "id": "a94d1c84-8681-4bb7-be00-89630fd90089",
   "metadata": {},
   "source": [
    " "
   ]
  },
  {
   "cell_type": "markdown",
   "id": "e10478ed-290f-4f56-b13f-06a64542ce04",
   "metadata": {},
   "source": [
    "답) 3"
   ]
  },
  {
   "cell_type": "code",
   "execution_count": 3,
   "id": "60322565-4765-4ebb-98c3-80a8e3a035f8",
   "metadata": {},
   "outputs": [
    {
     "name": "stdout",
     "output_type": "stream",
     "text": [
      "a.ndim is 2\n"
     ]
    }
   ],
   "source": [
    "a = np.array([[2,3,4]])\n",
    "print(f'a.ndim is {a.ndim}')\n",
    "# ndim = \"number of dimensions'"
   ]
  },
  {
   "cell_type": "markdown",
   "id": "690e5b92-a836-4712-9fda-262a33297212",
   "metadata": {},
   "source": [
    " "
   ]
  },
  {
   "cell_type": "markdown",
   "id": "b4f0642b-cd7e-41c0-ba9f-b067afd95b6b",
   "metadata": {},
   "source": [
    "### [문제3] Numpy의 \"다차원 배열\"에서 축(axis)란 무엇인가?<br>\n",
    "① 배열의 메모리 위치를 나타내는 값<br>\n",
    "② 배열의 차원 또는 방향을 나타내는 값<br>\n",
    "③ 배열의 크기를 나타내는 값<br>\n",
    "④ 배열의 데이터 형식을 나타내는 값<br>"
   ]
  },
  {
   "cell_type": "markdown",
   "id": "121a0d0d-562e-44eb-a8f0-2bc99cf44830",
   "metadata": {},
   "source": [
    " "
   ]
  },
  {
   "cell_type": "markdown",
   "id": "c8194811-5361-435d-9238-2ff9e7b15705",
   "metadata": {},
   "source": [
    "답) 2"
   ]
  },
  {
   "cell_type": "markdown",
   "id": "f48fa1cd-e762-44d2-ae6f-6c6938501ff9",
   "metadata": {},
   "source": [
    "axis = 0은 행 방향(수직 방향), <br>\n",
    "axis = 1은 열 방향(수평 방향)이다."
   ]
  },
  {
   "cell_type": "markdown",
   "id": "bcce14e9-1888-4fe4-afc2-0dba0a828b57",
   "metadata": {},
   "source": [
    " "
   ]
  },
  {
   "cell_type": "markdown",
   "id": "0710cd95-2608-4ef8-a481-586e9d295b32",
   "metadata": {},
   "source": [
    "### [문제4] 배열의 평균을 구하는 함수를 고르시오.<br>\n",
    "① np.mean()<br>\n",
    "② np.sum()<br>\n",
    "③ np.median()<br>\n",
    "④ np.average()<br>"
   ]
  },
  {
   "cell_type": "markdown",
   "id": "c0c724f8-b5ac-41f7-ae0b-3ccc98148aeb",
   "metadata": {},
   "source": [
    "답) 1"
   ]
  },
  {
   "cell_type": "code",
   "execution_count": 4,
   "id": "99067ab3-32ee-4dcf-b1f1-7c8abc35ae4f",
   "metadata": {},
   "outputs": [
    {
     "data": {
      "text/plain": [
       "2.5"
      ]
     },
     "execution_count": 4,
     "metadata": {},
     "output_type": "execute_result"
    }
   ],
   "source": [
    "a = np.array([1,2,3,4])\n",
    "a.mean()"
   ]
  },
  {
   "cell_type": "markdown",
   "id": "20b707d8-16c3-460a-a083-2158d42f1c1f",
   "metadata": {},
   "source": [
    " "
   ]
  },
  {
   "cell_type": "markdown",
   "id": "eeb02796-48e9-475e-88c5-b65625c324fd",
   "metadata": {},
   "source": [
    "### [문제5] 다차원 배열에서 축(axis)을 따라 성분을 삽입할 때 사용하는 함수를 고르시오.<br>\n",
    "① np.concatenate()<br>\n",
    "② np.insert()<br>\n",
    "③ np.vstack()<br>\n",
    "④ np.hstack()<br>"
   ]
  },
  {
   "cell_type": "markdown",
   "id": "949d79f4-9577-415b-b7e8-268b4535ed56",
   "metadata": {},
   "source": [
    " "
   ]
  },
  {
   "cell_type": "markdown",
   "id": "2092053f-647d-4462-8d87-f31c22d43f72",
   "metadata": {},
   "source": [
    "답) 1"
   ]
  },
  {
   "cell_type": "code",
   "execution_count": 5,
   "id": "1ef4a959-327d-4b85-aaf4-eb942ed0cc68",
   "metadata": {},
   "outputs": [
    {
     "name": "stdout",
     "output_type": "stream",
     "text": [
      "[[1 1]\n",
      " [2 2]\n",
      " [3 3]\n",
      " [4 4]]\n",
      "\n",
      "\n",
      "[[1 1]\n",
      " [4 4]\n",
      " [2 2]\n",
      " [3 3]\n",
      " [4 4]]\n",
      "\n",
      "\n",
      "[[1 4 1]\n",
      " [2 4 2]\n",
      " [3 4 3]\n",
      " [4 4 4]]\n",
      "\n",
      "\n",
      "[1 4 1 2 2 3 3 4 4]\n"
     ]
    }
   ],
   "source": [
    "b = np.array([[1,1],[2,2],[3,3],[4,4]])\n",
    "print(b)\n",
    "print(\"\\n\")\n",
    "\n",
    "c = np.insert(b, 1, 4, axis = 0) # index = 1인 행에 삽입, broadcasting, [4,4]로 바꿔서 계산\n",
    "print(c)\n",
    "print(\"\\n\")\n",
    "\n",
    "d = np.insert(b, 1, 4, axis = 1) # index = 1인 열에 삽입\n",
    "print(d)\n",
    "print(\"\\n\")\n",
    "\n",
    "e = np.insert(b, 1, 4) # ★ 전체를 1차원 배열로 바꿔서 index = 1인 위치에 삽입\n",
    "print(e)"
   ]
  },
  {
   "cell_type": "markdown",
   "id": "3cef7d2a-5e12-4cfa-9f81-0b5e7977ce33",
   "metadata": {},
   "source": [
    " "
   ]
  },
  {
   "cell_type": "markdown",
   "id": "ff295bda-fbcc-409d-95ff-36ea7ace2dcd",
   "metadata": {},
   "source": [
    "### [문제6] 배열의 각 성분에 10을 더한 새로운 배열을 생성하는 코드를 고르시오.<br>\n",
    "import numpy as np<br>\n",
    "arr = np.array([1, 2, 3, 4])<br><br>\n",
    "① arr + 10<br>\n",
    "② np.add(arr, 10)<br>\n",
    "③ arr.append(10)<br>\n",
    "④ np.concatenate([arr, 10])<br>"
   ]
  },
  {
   "cell_type": "markdown",
   "id": "52264b47-e296-4b38-a2bf-8e088f9be3bf",
   "metadata": {},
   "source": [
    " "
   ]
  },
  {
   "cell_type": "markdown",
   "id": "c6e0f74c-deed-40e5-9133-1ff842830c14",
   "metadata": {},
   "source": [
    "답) 1, 2"
   ]
  },
  {
   "cell_type": "code",
   "execution_count": 6,
   "id": "194b7ed8-6b6e-4f80-bee1-c24c58c66930",
   "metadata": {},
   "outputs": [
    {
     "name": "stdout",
     "output_type": "stream",
     "text": [
      "arr + 10 is [11 12 13 14] \n",
      "\n",
      "np.add(arr,10) is [11 12 13 14]\n"
     ]
    }
   ],
   "source": [
    "import numpy as np\n",
    "arr = np.array([1,2,3,4])\n",
    "\n",
    "print(f'arr + 10 is {arr+10} \\n') # broadcasting\n",
    "print(f'np.add(arr,10) is {np.add(arr,10)}')"
   ]
  },
  {
   "cell_type": "markdown",
   "id": "c623311d-f3a2-4f47-9424-227961e2a714",
   "metadata": {},
   "source": [
    " "
   ]
  },
  {
   "cell_type": "markdown",
   "id": "80a8bf69-709b-4f44-a2f2-78b7085c3302",
   "metadata": {},
   "source": [
    "### [문제7] 배열의 특정 성분을 교체하려면 어떤 방법을 사용해야 하는가?<br>\n",
    "① np.replace()<br>\n",
    "② arr[인덱스] = 새로운 값<br>\n",
    "③ arr.update()<br>\n",
    "④ np.modify()<br>"
   ]
  },
  {
   "cell_type": "markdown",
   "id": "7bba886e-2a18-4173-be8a-d49bb2af17da",
   "metadata": {},
   "source": [
    " "
   ]
  },
  {
   "cell_type": "markdown",
   "id": "8f7f2925-aae9-454e-8e91-aa0cc8f0d49d",
   "metadata": {},
   "source": [
    "답) 2"
   ]
  },
  {
   "cell_type": "code",
   "execution_count": 7,
   "id": "1e6ff87c-6dd4-4134-96c8-c4ed093f18f0",
   "metadata": {},
   "outputs": [
    {
     "name": "stdout",
     "output_type": "stream",
     "text": [
      "arr is now [-1  2  3  4]\n"
     ]
    }
   ],
   "source": [
    "arr = np.array([1,2,3,4])\n",
    "arr[0] = -1\n",
    "\n",
    "print(f'arr is now {arr}')"
   ]
  },
  {
   "cell_type": "markdown",
   "id": "b6e71b92-a458-49b1-b603-1e1cb98c5363",
   "metadata": {},
   "source": [
    " "
   ]
  },
  {
   "cell_type": "markdown",
   "id": "9efce54d-4b4b-44d7-ba41-ec7c40a03d35",
   "metadata": {},
   "source": [
    "### [문제8] 다음 코드를 실행하면 출력되는 결과를 고르시오.<br>\n",
    "import numpy as np<br>\n",
    "arr1 = np.array([1, 2])<br>\n",
    "arr2 = np.array([3, 4])<br>\n",
    "result = np.r_[arr1, arr2]<br>\n",
    "print(result) <br>"
   ]
  },
  {
   "cell_type": "markdown",
   "id": "77015401-a324-4022-ad4d-63fe815f7244",
   "metadata": {},
   "source": [
    " "
   ]
  },
  {
   "cell_type": "markdown",
   "id": "22d25e75-b49d-4396-8656-eca51337b071",
   "metadata": {},
   "source": [
    "답) [1 2 3 4]"
   ]
  },
  {
   "cell_type": "code",
   "execution_count": 8,
   "id": "c932a8b5-3243-465c-b330-e35b63b44ca5",
   "metadata": {},
   "outputs": [
    {
     "name": "stdout",
     "output_type": "stream",
     "text": [
      "[1 2 3 4]\n"
     ]
    }
   ],
   "source": [
    "import numpy as np\n",
    "arr1 = np.array([1, 2])\n",
    "arr2 = np.array([3, 4])\n",
    "result = np.r_[arr1, arr2] # 1차원 배열로 결합\n",
    "print(result)"
   ]
  },
  {
   "cell_type": "markdown",
   "id": "73329051-3fa6-4dc2-ba5f-801cd2e95e5d",
   "metadata": {},
   "source": [
    " "
   ]
  },
  {
   "cell_type": "markdown",
   "id": "d9ee7128-065f-4f64-903d-0639fb787578",
   "metadata": {},
   "source": [
    "### [문제9] 다음 코드의 출력 결과를 옳게 설명한 것을 고르시오.<br>\n",
    "import numpy as np<br>\n",
    "arr = np.array([[1, 2, 3], [4, 5, 6]])<br>\n",
    "print(arr[0, : ])<br>\n",
    "\n",
    "① 첫 번째 열의 모든 값<br>\n",
    "② 첫 번째 행의 모든 값<br>\n",
    "③ 첫 번째 열의 모든 값<br>\n",
    "④ 두 번째 행의 모든 값<br>"
   ]
  },
  {
   "cell_type": "markdown",
   "id": "766fc552-f9b9-4126-ba13-e4725633dded",
   "metadata": {},
   "source": [
    "답) 2"
   ]
  },
  {
   "cell_type": "markdown",
   "id": "c206d524-9a0d-49ea-a949-977dff993eeb",
   "metadata": {},
   "source": [
    " "
   ]
  },
  {
   "cell_type": "code",
   "execution_count": 9,
   "id": "651f45d9-8230-4d76-b2fe-145a3f8e8fae",
   "metadata": {},
   "outputs": [
    {
     "name": "stdout",
     "output_type": "stream",
     "text": [
      "[1 2 3]\n"
     ]
    }
   ],
   "source": [
    "import numpy as np\n",
    "arr = np.array([[1, 2, 3], [4, 5, 6]])\n",
    "print(arr[0, : ])"
   ]
  },
  {
   "cell_type": "markdown",
   "id": "0263ec54-b3f8-4113-867e-60fd8abaf8bf",
   "metadata": {},
   "source": [
    " "
   ]
  },
  {
   "cell_type": "markdown",
   "id": "e01317ce-9c65-4c09-a9bc-f6acd6105194",
   "metadata": {},
   "source": [
    "### [문제10] 다음 코드를 실행한 출력 결과를 고르시오.<br>\n",
    "import numpy as np<br>\n",
    "arr1 = np.array([[1, 2], [3, 4]])<br>\n",
    "arr2 = np.array([[5, 6], [7, 8]])<br>\n",
    "result = np.hstack([arr1, arr2])<br>\n",
    "print(result)<br><br>\n",
    "① [[1, 2, 5, 6], [3, 4, 7, 8]]<br>\n",
    "② [[1, 2], [3, 4], [5, 6], [7, 8]]<br>\n",
    "③ [1, 2, 3, 4, 5, 6, 7, 8]<br>\n",
    "④ [[1, 5], [2, 6], [3, 7], [4, 8]]<br>"
   ]
  },
  {
   "cell_type": "markdown",
   "id": "0875e107-983c-46fa-8b18-a7ace11b8049",
   "metadata": {},
   "source": [
    " "
   ]
  },
  {
   "cell_type": "markdown",
   "id": "595abc5f-6ae2-410d-bfe1-3154cb529834",
   "metadata": {},
   "source": [
    "답) 1"
   ]
  },
  {
   "cell_type": "code",
   "execution_count": 10,
   "id": "6e8bbd26-5793-42b6-aa02-109906f2fdbe",
   "metadata": {},
   "outputs": [
    {
     "name": "stdout",
     "output_type": "stream",
     "text": [
      "[[1 2 5 6]\n",
      " [3 4 7 8]]\n"
     ]
    }
   ],
   "source": [
    "import numpy as np\n",
    "arr1 = np.array([[1, 2], [3, 4]])\n",
    "arr2 = np.array([[5, 6], [7, 8]])\n",
    "result = np.hstack([arr1, arr2])\n",
    "print(result)"
   ]
  },
  {
   "cell_type": "markdown",
   "id": "c2cbe977-1070-4c62-91ef-93ec870e7953",
   "metadata": {},
   "source": [
    " "
   ]
  },
  {
   "cell_type": "markdown",
   "id": "69fced78-5f32-45ad-8eeb-852daf060695",
   "metadata": {},
   "source": [
    "### [문제11] 다음 코드에서 arr[ : , -1]의 결과는 무엇인가?<br>\n",
    "import numpy as np<br>\n",
    "arr = np.array([[1, 2, 3], [4, 5, 6], [7, 8, 9]])<br><br>\n",
    "① 배열의 마지막 열<br>\n",
    "② 배열의 마지막 행<br>\n",
    "③ 배열의 첫 번째 열<br>\n",
    "④ 배열의 첫 번째 행<br>"
   ]
  },
  {
   "cell_type": "markdown",
   "id": "2836ded1-218f-44bc-9fdc-bc5576830d2c",
   "metadata": {},
   "source": [
    " "
   ]
  },
  {
   "cell_type": "markdown",
   "id": "09986ed8-b767-46b1-bdf4-e1e240c7c63a",
   "metadata": {},
   "source": [
    "답) 1"
   ]
  },
  {
   "cell_type": "code",
   "execution_count": 11,
   "id": "28175c27-7048-4bea-9f83-b34dbdbe133e",
   "metadata": {},
   "outputs": [
    {
     "name": "stdout",
     "output_type": "stream",
     "text": [
      "[3 6 9]\n"
     ]
    }
   ],
   "source": [
    "import numpy as np\n",
    "arr = np.array([[1, 2, 3], [4, 5, 6], [7, 8, 9]])\n",
    "print(arr[:,-1]) # 뒤에서 1번째 열"
   ]
  },
  {
   "cell_type": "markdown",
   "id": "14b1704d-746e-478c-a39a-a1aa3c3ce231",
   "metadata": {},
   "source": [
    "## ▣ 진위형 문제 (True/False)"
   ]
  },
  {
   "cell_type": "markdown",
   "id": "dffcd193-dab8-4f54-a215-cdaac312c408",
   "metadata": {},
   "source": [
    " "
   ]
  },
  {
   "cell_type": "markdown",
   "id": "82a488ae-a064-4d65-a761-e2aab9baf9a8",
   "metadata": {},
   "source": [
    "### [문제12] Numpy의 arange(m, n, step) 함수는 m부터 n까지의 값을 생성하고, <br>step은 각 성분 사이의 간격을 결정한다.\n",
    "True / False"
   ]
  },
  {
   "cell_type": "markdown",
   "id": "5678ab1c-ae41-4c34-8183-5ce2d647e6bd",
   "metadata": {},
   "source": [
    " "
   ]
  },
  {
   "cell_type": "markdown",
   "id": "8531d102-7757-4fd8-937c-dc1fa99b1e4c",
   "metadata": {},
   "source": [
    "답) False"
   ]
  },
  {
   "cell_type": "markdown",
   "id": "3c7a2f02-c97c-46fa-9320-be4cb341f43f",
   "metadata": {},
   "source": [
    "M부터 N-1까지 step만큼 진행시킨 값을 생성한다."
   ]
  },
  {
   "cell_type": "markdown",
   "id": "57000e49-a089-44cb-9da2-256eb9f19811",
   "metadata": {},
   "source": [
    "  "
   ]
  },
  {
   "cell_type": "markdown",
   "id": "02f4e03f-c2e4-4ed7-b3df-f723e0ebb2b8",
   "metadata": {},
   "source": [
    "### [문제13] Numpy 배열에서 모든 성분은 같은 자료형이어야 한다.\n",
    "True / False"
   ]
  },
  {
   "cell_type": "markdown",
   "id": "ae133b21-8ae5-40f7-97cc-8c739beac262",
   "metadata": {},
   "source": [
    " "
   ]
  },
  {
   "cell_type": "markdown",
   "id": "35afd5c1-018e-43b2-aafc-0d20eda09a3e",
   "metadata": {},
   "source": [
    "답) True"
   ]
  },
  {
   "cell_type": "markdown",
   "id": "80ed1b17-e2fb-4f32-89cf-c0398a3a5ee3",
   "metadata": {},
   "source": [
    " "
   ]
  },
  {
   "cell_type": "markdown",
   "id": "d1435f4f-e27d-4fef-9bfe-7b631883344b",
   "metadata": {},
   "source": [
    "### [문제14] np.append() 함수는 배열의 끝에 성분을 추가한다. \n",
    "True / False"
   ]
  },
  {
   "cell_type": "markdown",
   "id": "3001d299-a2ca-48c8-96c5-90e11dd411dc",
   "metadata": {},
   "source": [
    " "
   ]
  },
  {
   "cell_type": "markdown",
   "id": "a658522c-82c9-4795-9536-afa3b95dcaa8",
   "metadata": {},
   "source": [
    "답) True"
   ]
  },
  {
   "cell_type": "markdown",
   "id": "c0f0e347-127e-4de4-a283-130bdb86a7ce",
   "metadata": {},
   "source": [
    " "
   ]
  },
  {
   "cell_type": "markdown",
   "id": "777ef865-65dc-433d-8301-5240663d465c",
   "metadata": {},
   "source": [
    "## ▣ 단답형 문제"
   ]
  },
  {
   "cell_type": "markdown",
   "id": "0abfdf0c-e1a0-44f2-8252-6cc3535c5b98",
   "metadata": {},
   "source": [
    "### [문제15] Numpy에서 배열의 모든 성분을 0으로 초기화하는 함수는 무엇인가?"
   ]
  },
  {
   "cell_type": "markdown",
   "id": "43ef1fd5-5fb7-4f58-bc44-5bc60facdbfd",
   "metadata": {},
   "source": [
    " "
   ]
  },
  {
   "cell_type": "markdown",
   "id": "619d73d0-c1c3-4f50-8632-3bfc5bc42215",
   "metadata": {},
   "source": [
    "답) np.zeros()"
   ]
  },
  {
   "cell_type": "code",
   "execution_count": 12,
   "id": "29eb96f3-bc7c-42ca-b40b-145edc131a7d",
   "metadata": {},
   "outputs": [
    {
     "name": "stdout",
     "output_type": "stream",
     "text": [
      "[[0. 0. 0.]]\n"
     ]
    }
   ],
   "source": [
    "a = np.zeros((1,3)) # 1행 3열의 0으로 초기화된 배열 생성\n",
    "print(a)"
   ]
  },
  {
   "cell_type": "markdown",
   "id": "b7c4de33-d650-4ba0-b44a-a6d4df560928",
   "metadata": {},
   "source": [
    " "
   ]
  },
  {
   "cell_type": "markdown",
   "id": "0c2a6ffb-5d5c-4288-a6f8-5c3ccc1f294c",
   "metadata": {},
   "source": [
    "### [문제16] Numpy 배열에서 값을 삭제하기 위한 함수는 무엇인가?"
   ]
  },
  {
   "cell_type": "markdown",
   "id": "9b2d3f6a-a0dc-416e-b428-8b813dddff27",
   "metadata": {},
   "source": [
    " "
   ]
  },
  {
   "cell_type": "markdown",
   "id": "4734cddb-17b6-4b23-a168-e5c58d43b19b",
   "metadata": {},
   "source": [
    "답) np.delete()"
   ]
  },
  {
   "cell_type": "code",
   "execution_count": 13,
   "id": "2d789fa3-a4cd-402c-b40f-87d30acbf6b3",
   "metadata": {},
   "outputs": [
    {
     "data": {
      "text/plain": [
       "array([1, 3])"
      ]
     },
     "execution_count": 13,
     "metadata": {},
     "output_type": "execute_result"
    }
   ],
   "source": [
    "a = np.array([1,2,3])\n",
    "np.delete(a,1)"
   ]
  },
  {
   "cell_type": "markdown",
   "id": "33472111-447e-4219-bacf-dded0fa098a0",
   "metadata": {},
   "source": [
    " "
   ]
  },
  {
   "cell_type": "markdown",
   "id": "ba5cdb2a-c594-4607-a278-4292a0b4e574",
   "metadata": {},
   "source": [
    "## ▣ 완성형 (코드 입력하기)"
   ]
  },
  {
   "cell_type": "markdown",
   "id": "7fb2e761-808d-48fb-aa05-30d8a3b1c800",
   "metadata": {},
   "source": [
    "### [문제17] 주어진 Numpy 배열 arr에서 모든 짝수 성분만 선택하는 코드를 작성하시오.<br>\n",
    "import numpy as np<br>\n",
    "arr = np.array([1, 2, 3, 4, 5, 6, 7, 8, 9, 10])<br>"
   ]
  },
  {
   "cell_type": "markdown",
   "id": "2e0ae892-9b9a-4297-9b1e-88945d1bc6c3",
   "metadata": {},
   "source": [
    " "
   ]
  },
  {
   "cell_type": "markdown",
   "id": "db9beeb6-3fdf-4e79-9d56-021e021f2932",
   "metadata": {},
   "source": [
    "답) arr[arr % 2 == 0]"
   ]
  },
  {
   "cell_type": "code",
   "execution_count": 14,
   "id": "9343aa5f-dff0-4e62-97db-ac23bb6cccff",
   "metadata": {},
   "outputs": [
    {
     "data": {
      "text/plain": [
       "array([ 2,  4,  6,  8, 10])"
      ]
     },
     "execution_count": 14,
     "metadata": {},
     "output_type": "execute_result"
    }
   ],
   "source": [
    "import numpy as np\n",
    "arr = np.array([1, 2, 3, 4, 5, 6, 7, 8, 9, 10])\n",
    "arr[arr % 2 == 0]"
   ]
  },
  {
   "cell_type": "markdown",
   "id": "5b6cb811-afb4-4592-b253-1688279914bf",
   "metadata": {},
   "source": [
    " "
   ]
  },
  {
   "cell_type": "markdown",
   "id": "b04feb0e-66b0-4a82-a82e-9e6e124422bd",
   "metadata": {},
   "source": [
    "### [문제18] 11부터 25까지의 숫자를 가진 배열을 생성하고, 이 배열을 3 × 5 로 변환하는코드를 작성하시오.<br>\n",
    "import numpy as np<br>\n",
    "arr = __________________________<br>\n",
    "reshaped_arr = _____________________<br><br>"
   ]
  },
  {
   "cell_type": "markdown",
   "id": "0e01190e-5de2-4135-8290-e2bb3e1f284a",
   "metadata": {},
   "source": [
    " "
   ]
  },
  {
   "cell_type": "markdown",
   "id": "7a8bfde6-d4ec-41e0-8a47-3af793911612",
   "metadata": {},
   "source": [
    "답) <br>\n",
    "arr = np.arange(11,26)<br>\n",
    "reshaped_arr = arr.reshape(3,5)<br>"
   ]
  },
  {
   "cell_type": "code",
   "execution_count": 15,
   "id": "d6e98ef8-beb2-487f-87d0-3a452154089f",
   "metadata": {},
   "outputs": [
    {
     "name": "stdout",
     "output_type": "stream",
     "text": [
      "[[11 12 13 14 15]\n",
      " [16 17 18 19 20]\n",
      " [21 22 23 24 25]]\n"
     ]
    }
   ],
   "source": [
    "import numpy as np\n",
    "arr = np.arange(11,26)\n",
    "reshaped_arr = arr.reshape(3,5) # 수정된 배열을 return\n",
    "print(reshaped_arr)"
   ]
  },
  {
   "cell_type": "markdown",
   "id": "056976ed-3263-4d47-84db-9a23e02ec064",
   "metadata": {},
   "source": [
    " "
   ]
  },
  {
   "cell_type": "markdown",
   "id": "38d56c46-982b-4b4b-a64f-c76e6e10bd3d",
   "metadata": {},
   "source": [
    " ### [문제19] hstack( ) 함수를 사용, 다음 2 × 2 두 배열을 수평으로 결합하는 코드를 작성하시오.<br><br>\n",
    "import numpy as np<br>\n",
    "arr1 = np.array([ [1, -2], [0, 5] ])<br>\n",
    "arr2 = np.array([ [4, 5], [1, -2] ])<br>\n",
    "combined_arr = ______________________<br><br>"
   ]
  },
  {
   "cell_type": "markdown",
   "id": "02201787-34dd-42ca-86f7-5bf1dab734d0",
   "metadata": {},
   "source": [
    " "
   ]
  },
  {
   "cell_type": "markdown",
   "id": "c320605e-5a5c-4e6e-9dac-2830bf907577",
   "metadata": {},
   "source": [
    "답) combined_arr = np.hstack([arr1,arr2])"
   ]
  },
  {
   "cell_type": "code",
   "execution_count": 16,
   "id": "e4ae11cf-c64e-49b4-84e5-800c2d0df844",
   "metadata": {},
   "outputs": [
    {
     "name": "stdout",
     "output_type": "stream",
     "text": [
      "[[ 1 -2  4  5]\n",
      " [ 0  5  1 -2]]\n"
     ]
    }
   ],
   "source": [
    "import numpy as np\n",
    "arr1 = np.array([ [1, -2], [0, 5] ])\n",
    "arr2 = np.array([ [4, 5], [1, -2] ])\n",
    "combined_arr = np.hstack([arr1,arr2])\n",
    "print(combined_arr)"
   ]
  },
  {
   "cell_type": "markdown",
   "id": "548e015d-9886-4244-8977-a19284af2201",
   "metadata": {},
   "source": [
    " "
   ]
  },
  {
   "cell_type": "markdown",
   "id": "622ac78f-be99-490b-9d14-145e627b18f6",
   "metadata": {},
   "source": [
    "### [문제20] vstack( ) 함수를 사용하여, 두 배열을 수직으로 결합하는 코드를 작성하시오.<br><br>\n",
    "import numpy as np<br>\n",
    "arr1 = np.array([11, 12, 13])<br>\n",
    "arr2 = np.array([41, 51, 61])<br>\n",
    "combined_arr = ___________________<br><br>"
   ]
  },
  {
   "cell_type": "markdown",
   "id": "5bda16a1-f18f-4451-b744-3810b019dbc5",
   "metadata": {},
   "source": [
    " "
   ]
  },
  {
   "cell_type": "markdown",
   "id": "b78d8633-8a87-47e1-a4e1-dd94a912cb59",
   "metadata": {},
   "source": [
    "답) combined_arr = np.vstack([arr1,arr2])"
   ]
  },
  {
   "cell_type": "code",
   "execution_count": 3,
   "id": "82e8a418-a7a2-4658-bcab-17e4f9047f99",
   "metadata": {
    "scrolled": true
   },
   "outputs": [
    {
     "name": "stdout",
     "output_type": "stream",
     "text": [
      "[[11 12 13]\n",
      " [41 51 61]]\n"
     ]
    }
   ],
   "source": [
    "import numpy as np\n",
    "arr1 = np.array([11, 12, 13])\n",
    "arr2 = np.array([41, 51, 61])\n",
    "combined_arr = np.vstack([arr1,arr2])\n",
    "print(combined_arr)"
   ]
  },
  {
   "cell_type": "code",
   "execution_count": 5,
   "id": "5bb29de4-7d0d-4a93-b438-46503f453dd1",
   "metadata": {},
   "outputs": [
    {
     "ename": "TypeError",
     "evalue": "hstack() takes 1 positional argument but 2 were given",
     "output_type": "error",
     "traceback": [
      "\u001b[1;31m---------------------------------------------------------------------------\u001b[0m",
      "\u001b[1;31mTypeError\u001b[0m                                 Traceback (most recent call last)",
      "Cell \u001b[1;32mIn[5], line 1\u001b[0m\n\u001b[1;32m----> 1\u001b[0m np\u001b[38;5;241m.\u001b[39mhstack([arr1],[arr2])\n",
      "\u001b[1;31mTypeError\u001b[0m: hstack() takes 1 positional argument but 2 were given"
     ]
    }
   ],
   "source": [
    "np.hstack([arr1,arr2])"
   ]
  },
  {
   "cell_type": "markdown",
   "id": "54efb41f-4e1f-431d-bd43-c5a7285f4447",
   "metadata": {},
   "source": [
    " "
   ]
  },
  {
   "cell_type": "markdown",
   "id": "c8ed6479-d22f-40a2-8080-b3bfe00e17f1",
   "metadata": {},
   "source": [
    "### [문제21] np.r_을 사용하여 출력 결과처럼, 다음 두 배열을 세로로 결합하는 코드를 작성하시오.<br><br>\n",
    "import numpy as np<br>\n",
    "arr1 = np.array([1, 2])<br>\n",
    "arr2 = np.array([3, 4])<br>\n",
    "결과: [[1, 2], [3, 4]]<br><br>"
   ]
  },
  {
   "cell_type": "markdown",
   "id": "dd6ebd25-9386-4803-949d-f6d3a1fa821b",
   "metadata": {},
   "source": [
    " "
   ]
  },
  {
   "cell_type": "markdown",
   "id": "59c753c2-d07a-47d9-8b11-3fb3e4173dea",
   "metadata": {},
   "source": [
    "답)\n",
    "res = np.r_[[arr1],[arr2]]"
   ]
  },
  {
   "cell_type": "code",
   "execution_count": 9,
   "id": "ed8c7e35-258f-442b-bdec-626a14e7b35f",
   "metadata": {},
   "outputs": [
    {
     "name": "stdout",
     "output_type": "stream",
     "text": [
      "결과 : [1 2 3 4]\n"
     ]
    }
   ],
   "source": [
    "import numpy as np\n",
    "arr1 = np.array([1, 2])\n",
    "arr2 = np.array([3, 4])\n",
    "res = np.r_[[arr1],[arr2]]\n",
    "print(f'결과 : {res}')"
   ]
  },
  {
   "cell_type": "markdown",
   "id": "c0a92077-9810-4648-a619-e42abf02d17a",
   "metadata": {},
   "source": [
    " "
   ]
  },
  {
   "cell_type": "markdown",
   "id": "62cb6b02-97ae-43ad-b036-952aef4ef8fe",
   "metadata": {},
   "source": [
    "### [문제22] 다음 배열을 역순으로 만들기 위한 flip() 함수를 사용하는 코드를 완성하시오. <br><br>\n",
    "import numpy as np<br>\n",
    "arr = np.array([4, 5, 6, 7, 8])<br>\n",
    "flipped_arr = ___________<br><br>"
   ]
  },
  {
   "cell_type": "markdown",
   "id": "dc9492f1-99f5-45df-acc0-7656bbe261db",
   "metadata": {},
   "source": [
    " "
   ]
  },
  {
   "cell_type": "markdown",
   "id": "d7d8796d-5e0e-4457-bc7a-c5c61678f6eb",
   "metadata": {},
   "source": [
    "답) flipped_arr = np.flip(arr)"
   ]
  },
  {
   "cell_type": "code",
   "execution_count": 20,
   "id": "4cd50515-fc70-4722-9e11-6d2b28b7e0ef",
   "metadata": {},
   "outputs": [
    {
     "name": "stdout",
     "output_type": "stream",
     "text": [
      "[8 7 6 5 4]\n"
     ]
    }
   ],
   "source": [
    "import numpy as np\n",
    "arr = np.array([4, 5, 6, 7, 8])\n",
    "flipped_arr = np.flip(arr)\n",
    "print(flipped_arr)"
   ]
  },
  {
   "cell_type": "markdown",
   "id": "dc6ddf57-101b-4be9-87e9-e67bde61266e",
   "metadata": {},
   "source": [
    " "
   ]
  },
  {
   "cell_type": "markdown",
   "id": "7335ac2e-f53e-444e-9339-c6ee712f801f",
   "metadata": {},
   "source": [
    "### [문제23] 배열에서 특정 값을 삽입하기 위해 insert() 함수를 사용한다. 다음 코드를 완성하시오.<br><br>\n",
    "import numpy as np<br>\n",
    "arr = np.array([1, 2, 3])<br>\n",
    "new_arr = __________________________<br>\n",
    "출력결과: array([1, 100, 2, 3])<br><br>"
   ]
  },
  {
   "cell_type": "markdown",
   "id": "eafef263-136a-4d5d-a681-613fbaba5ae7",
   "metadata": {},
   "source": [
    " "
   ]
  },
  {
   "cell_type": "markdown",
   "id": "e1be8e38-ec88-420f-bd53-7c68c9ce2ab3",
   "metadata": {},
   "source": [
    "답) new_arr = np.insert(arr,1,100)"
   ]
  },
  {
   "cell_type": "code",
   "execution_count": 21,
   "id": "672798eb-8595-4fe6-8d65-b8d0c242b2b3",
   "metadata": {},
   "outputs": [
    {
     "data": {
      "text/plain": [
       "array([  1, 100,   2,   3])"
      ]
     },
     "execution_count": 21,
     "metadata": {},
     "output_type": "execute_result"
    }
   ],
   "source": [
    "import numpy as np\n",
    "arr = np.array([1, 2, 3])\n",
    "new_arr = np.insert(arr,1,100)\n",
    "\n",
    "new_arr"
   ]
  },
  {
   "cell_type": "markdown",
   "id": "70a2b39b-c7e3-41d4-997b-40e5cf81d101",
   "metadata": {},
   "source": [
    " "
   ]
  },
  {
   "cell_type": "markdown",
   "id": "d07b2412-4816-42ec-9fc0-2b7673617b8d",
   "metadata": {},
   "source": [
    "### [문제24] 다음 2차원 배열에서 행은 1번째부터 2번째까지, 열은 1번째부터 2번째까지의 부분 배열을 추출하는 코드를 작성하시오.<br>\n",
    "import numpy as np<br><br>\n",
    "arr = np.array([[1, 2, 3], [4, 5, 6], [7, 8, 9]])<br>\n",
    "sub_array = _____________________________<br><br>"
   ]
  },
  {
   "cell_type": "markdown",
   "id": "c32019da-451e-4725-86e0-379d29a3999a",
   "metadata": {},
   "source": [
    " "
   ]
  },
  {
   "cell_type": "markdown",
   "id": "4dad5287-78e7-436d-a240-2c51aebcac60",
   "metadata": {},
   "source": [
    "답) sub_array = arr[0:2,0:2]"
   ]
  },
  {
   "cell_type": "code",
   "execution_count": 22,
   "id": "1eb4e565-0a4f-43fa-a51a-d47e2d05d961",
   "metadata": {},
   "outputs": [
    {
     "name": "stdout",
     "output_type": "stream",
     "text": [
      "[[1 2]\n",
      " [4 5]]\n"
     ]
    }
   ],
   "source": [
    "import numpy as np\n",
    "arr = np.array([[1, 2, 3], [4, 5, 6], [7, 8, 9]])\n",
    "sub_array = arr[0:2,0:2] # n-1\n",
    "print(sub_array)"
   ]
  },
  {
   "cell_type": "markdown",
   "id": "50cefdde-eb43-40e1-9d15-3d542ee4f49d",
   "metadata": {},
   "source": [
    " "
   ]
  },
  {
   "cell_type": "markdown",
   "id": "b584f2ac-7b9b-4254-825e-15c04f8efb53",
   "metadata": {},
   "source": [
    "### [문제25] 다음 배열에서 첫 번째 열을 추출하는 코드를 완성하시오.<br><br>\n",
    "import numpy as np<br>\n",
    "arr = np.array([[1, 2, 3], [4, 5, 6]])<br>\n",
    "first_col = ____________________<br><br>"
   ]
  },
  {
   "cell_type": "markdown",
   "id": "c76e513d-e997-4ede-b144-83b52310269a",
   "metadata": {},
   "source": [
    " "
   ]
  },
  {
   "cell_type": "markdown",
   "id": "8522398f-7a7c-48d4-afab-b5a32056783e",
   "metadata": {},
   "source": [
    "답) frist_col = arr[:,0]"
   ]
  },
  {
   "cell_type": "code",
   "execution_count": 23,
   "id": "3afac34b-7cbf-4bea-ac53-739ea1e583ad",
   "metadata": {},
   "outputs": [
    {
     "name": "stdout",
     "output_type": "stream",
     "text": [
      "[1 4]\n"
     ]
    }
   ],
   "source": [
    "import numpy as np\n",
    "arr = np.array([[1, 2, 3], [4, 5, 6]])\n",
    "first_col = arr[:,0]\n",
    "print(first_col)"
   ]
  },
  {
   "cell_type": "markdown",
   "id": "0f144953-245d-4558-b311-6e901ff6143c",
   "metadata": {},
   "source": [
    " "
   ]
  },
  {
   "cell_type": "markdown",
   "id": "73ad9777-1e68-4c98-9cbf-c902fcc5ca2f",
   "metadata": {},
   "source": [
    "### [문제26] 다음 배열의 마지막 행을 추출하는 코드를 작성하시오.<br><br>\n",
    "import numpy as np<br>\n",
    "arr = np.array([[1, 2, 3], [4, 5, 6]])<br>\n",
    "last_row = _____________________<br><br>"
   ]
  },
  {
   "cell_type": "markdown",
   "id": "bf932e6d-a61a-4b6d-88a2-d3fc9a574771",
   "metadata": {},
   "source": [
    " "
   ]
  },
  {
   "cell_type": "markdown",
   "id": "8ceb96fa-1693-4224-bcdb-d34b00394fce",
   "metadata": {},
   "source": [
    "답) last_row = arr[-1,:]"
   ]
  },
  {
   "cell_type": "code",
   "execution_count": 24,
   "id": "27b89522-2234-4bed-abe9-888014b6dc41",
   "metadata": {},
   "outputs": [
    {
     "name": "stdout",
     "output_type": "stream",
     "text": [
      "[4 5 6]\n"
     ]
    }
   ],
   "source": [
    "import numpy as np\n",
    "arr = np.array([[1, 2, 3], [4, 5, 6]])\n",
    "last_row = arr[-1,:] # // arr[1,:]\n",
    "print(last_row)"
   ]
  },
  {
   "cell_type": "markdown",
   "id": "58f48dba-220b-42ce-ad93-3663e931189d",
   "metadata": {},
   "source": [
    " "
   ]
  },
  {
   "cell_type": "markdown",
   "id": "80cae27f-0bc2-400d-9f2a-8e3974d8d8e9",
   "metadata": {},
   "source": [
    "### [문제27] 다음 3차원 배열에서 모든 2D 배열의 첫 번째 행을 추출하는 코드를 작성하시오. <br><br>\n",
    "import numpy as np<br>\n",
    "arr = np.array([ [[1, 2], [3, 4]], [[5, 6], [7, 8]], [[9, 10], [11, 12]] ])<br>\n",
    "first_rows = ______________________<br><br>"
   ]
  },
  {
   "cell_type": "markdown",
   "id": "8cbc6874-4b33-48e9-bace-822f4e564e2c",
   "metadata": {},
   "source": [
    " "
   ]
  },
  {
   "cell_type": "markdown",
   "id": "5a3ea604-861a-4c6d-9607-d3bb255971d9",
   "metadata": {},
   "source": [
    "답) first_rows = arr[:,0,:]"
   ]
  },
  {
   "cell_type": "code",
   "execution_count": 25,
   "id": "a41dee6c-2f7d-4711-9c57-4b98033b62ae",
   "metadata": {},
   "outputs": [
    {
     "name": "stdout",
     "output_type": "stream",
     "text": [
      "[[ 1  2]\n",
      " [ 5  6]\n",
      " [ 9 10]]\n"
     ]
    }
   ],
   "source": [
    "import numpy as np\n",
    "arr = np.array([ [[1, 2], [3, 4]], [[5, 6], [7, 8]], [[9, 10], [11, 12]] ])\n",
    "first_rows = arr[:,0,:] # 바깥 쪽 부터 인덱싱\n",
    "print(first_rows)"
   ]
  },
  {
   "cell_type": "markdown",
   "id": "ce75b1e8-8fb0-4773-a476-ceba92bd67cf",
   "metadata": {},
   "source": [
    " "
   ]
  },
  {
   "cell_type": "markdown",
   "id": "25581837-e005-4dba-97b4-6d1fa4026f00",
   "metadata": {},
   "source": [
    " "
   ]
  },
  {
   "cell_type": "markdown",
   "id": "e6f27e38-4936-4a74-83da-0adfad3a12cd",
   "metadata": {},
   "source": [
    "### [문제28] np.concatenate() 함수를 사용하여, 두 배열을 로 세로로 결합하는 코드를 완성하시오. <br><br>\n",
    "import numpy as np<br>\n",
    "arr1 = np.array([[1, 2], [3, 4]])<br>\n",
    "arr2 = np.array([[5, 6]])<br>\n",
    "result = ________________________________<br>\n",
    "print(result)<br><br>\n",
    "출력결과 [[1 2]<br>\n",
    "[3 4]<br>\n",
    "[5 6]]<br><br>"
   ]
  },
  {
   "cell_type": "markdown",
   "id": "a49c0935-e7d9-400d-a71f-b72a5c23e844",
   "metadata": {},
   "source": [
    " "
   ]
  },
  {
   "cell_type": "markdown",
   "id": "0c379148-f62d-45a5-8d0c-eab674e07276",
   "metadata": {},
   "source": [
    "답) result = np.concatenate((arr1,arr2),axis = 0)"
   ]
  },
  {
   "cell_type": "code",
   "execution_count": 26,
   "id": "82d6f1ab-726a-4ae5-87aa-9b12f17c1635",
   "metadata": {},
   "outputs": [
    {
     "name": "stdout",
     "output_type": "stream",
     "text": [
      "[[1 2]\n",
      " [3 4]\n",
      " [5 6]]\n"
     ]
    }
   ],
   "source": [
    "import numpy as np\n",
    "arr1 = np.array([[1, 2], [3, 4]])\n",
    "arr2 = np.array([[5, 6]])\n",
    "result = np.concatenate((arr1,arr2),axis = 0)\n",
    "print(result)"
   ]
  },
  {
   "cell_type": "markdown",
   "id": "f0319b09-a00f-401b-b42d-a00828a46794",
   "metadata": {},
   "source": [
    " "
   ]
  },
  {
   "cell_type": "markdown",
   "id": "00dce8af-96ad-4b11-a883-d03d75426555",
   "metadata": {},
   "source": [
    "## ▣ 다양한 방법으로 조건을 만족하는 코드 선택 문제\n",
    "### [문제29] 다음 2차원 배열에서 모든 성분이 5보다 큰 값을 추출하는 코드를 고르시오.<br><br>\n",
    "import numpy as np<br>\n",
    "arr = np.array([[1, 6, 3], [4, 7, 8], [9, 2, 5]])<br><br>\n",
    "① arr[arr > 5]<br>\n",
    "② arr[arr < 5]<br>\n",
    "③ arr[arr >= 5]<br>\n",
    "④ arr[arr != 5]<br><br>"
   ]
  },
  {
   "cell_type": "markdown",
   "id": "e18ea724-f9f0-4397-be67-b5bfca07592e",
   "metadata": {},
   "source": [
    " "
   ]
  },
  {
   "cell_type": "markdown",
   "id": "481623e3-8ef3-4d84-a2ed-0a38304ba4a9",
   "metadata": {},
   "source": [
    "답) 1 "
   ]
  },
  {
   "cell_type": "code",
   "execution_count": 27,
   "id": "88cec5f6-754b-4133-8bf4-1c6614a9381b",
   "metadata": {},
   "outputs": [
    {
     "name": "stdout",
     "output_type": "stream",
     "text": [
      "arr[arr > 5] is [6 7 8 9]\n"
     ]
    }
   ],
   "source": [
    "import numpy as np\n",
    "arr = np.array([[1, 6, 3], [4, 7, 8], [9, 2, 5]]) \n",
    "print(f'arr[arr > 5] is {arr[arr > 5]}') # 5 초과!"
   ]
  },
  {
   "cell_type": "markdown",
   "id": "f2698867-79fc-4cc5-a836-ac2b37030120",
   "metadata": {},
   "source": [
    " "
   ]
  },
  {
   "cell_type": "markdown",
   "id": "0028df7a-341a-4f2a-920d-4073d96487d8",
   "metadata": {},
   "source": [
    "### [문제30] 다음 2차원 배열에서 첫 번째 행의 성분에서 짝수만 추출하는 코드를 모두 고르시오. <br><br>\n",
    "import numpy as np<br>\n",
    "arr = np.array([[1, 2, 3], [4, 5, 6]])<br><br>\n",
    "① arr[0, arr[0] % 2 == 0]<br>\n",
    "② arr[0, arr[0] % 2 != 0]<br>\n",
    "③ arr[0][arr[0] % 2 == 0]<br>\n",
    "④ arr[0][arr[0] % 2 != 0]<br><br>"
   ]
  },
  {
   "cell_type": "markdown",
   "id": "b090d074-a8de-4965-8cd8-5af682081d5e",
   "metadata": {},
   "source": [
    " "
   ]
  },
  {
   "cell_type": "markdown",
   "id": "2a20486a-cc65-43f5-9d87-b2c5ee72ffe9",
   "metadata": {},
   "source": [
    "답) 3"
   ]
  },
  {
   "cell_type": "code",
   "execution_count": 28,
   "id": "1546180a-1496-4494-aced-935f1b2b2ece",
   "metadata": {},
   "outputs": [
    {
     "name": "stdout",
     "output_type": "stream",
     "text": [
      "arr[0][arr[0] % 2 == 0] is [2]\n"
     ]
    }
   ],
   "source": [
    "import numpy as np\n",
    "arr = np.array([[1, 2, 3], [4, 5, 6]])\n",
    "arr[0, arr[0] % 2 == 0]\n",
    "print(f'arr[0][arr[0] % 2 == 0] is {arr[0][arr[0] % 2 == 0]}')"
   ]
  },
  {
   "cell_type": "markdown",
   "id": "e870fc20-d821-4b4d-9e30-b747fe859a88",
   "metadata": {},
   "source": [
    " "
   ]
  },
  {
   "cell_type": "markdown",
   "id": "8729b966-4396-43c5-9b3b-63f3a64b3dcb",
   "metadata": {},
   "source": [
    "### [문제31] 다음 3차원 배열에서 두 번째 2D 배열의 첫 번째 행을 추출하는 코드를 모두 고르시오.<br><br>\n",
    "import numpy as np<br>\n",
    "arr = np.array([ [[1, 2], [3, 4]], [[5, 6], [7, 8]], [[9, 10], [11, 12]] ])<br><br>\n",
    "① arr[1, 0, : ]<br>\n",
    "② arr[1, : , 0]<br>\n",
    "③ arr[1, 0, : ]<br>\n",
    "④ arr[1, 0, : ]<br><br>"
   ]
  },
  {
   "cell_type": "markdown",
   "id": "360115f6-485f-4b8e-9e44-59ad9c137ac0",
   "metadata": {},
   "source": [
    "답) arr[1,0,:]"
   ]
  },
  {
   "cell_type": "markdown",
   "id": "c8252943-455d-479a-bd39-804326a86248",
   "metadata": {},
   "source": [
    " "
   ]
  },
  {
   "cell_type": "code",
   "execution_count": 29,
   "id": "1df4f5ba-bfd2-4e67-9324-2f3ecbf961a2",
   "metadata": {},
   "outputs": [
    {
     "data": {
      "text/plain": [
       "array([5, 6])"
      ]
     },
     "execution_count": 29,
     "metadata": {},
     "output_type": "execute_result"
    }
   ],
   "source": [
    "import numpy as np\n",
    "arr = np.array([ [[1, 2], [3, 4]], [[5, 6], [7, 8]], [[9, 10], [11, 12]] ])\n",
    "arr[1,0,:] # 가장 바깥 괄호부터 인덱싱"
   ]
  },
  {
   "cell_type": "markdown",
   "id": "8f68eed7-8d66-40bb-a2b6-eddb47bbfa49",
   "metadata": {},
   "source": [
    " "
   ]
  },
  {
   "cell_type": "markdown",
   "id": "68e83495-8eea-447a-989f-55d0e18c0151",
   "metadata": {},
   "source": [
    "## ▣ 코드 작성 및 출력 결과 작성/오류 찾기<br>\n",
    "### [문제32] 다음 코드의 결과를 작성하시오.<br><br>\n",
    "arr1 = np.array([1, 2])<br>\n",
    "arr2 = np.array([3, 4])<br>\n",
    "result1 = np.c_[arr1, arr2]<br><br>"
   ]
  },
  {
   "cell_type": "markdown",
   "id": "625e2119-0aff-414b-9199-7de2b30d473d",
   "metadata": {},
   "source": [
    " "
   ]
  },
  {
   "cell_type": "markdown",
   "id": "0aed3527-3740-477e-9f25-462d0451c536",
   "metadata": {},
   "source": [
    "답) [[1,3],[2,4]]"
   ]
  },
  {
   "cell_type": "code",
   "execution_count": 30,
   "id": "b65a92dd-0df4-48d4-8799-4ae45cae548d",
   "metadata": {},
   "outputs": [
    {
     "name": "stdout",
     "output_type": "stream",
     "text": [
      "[[1 3]\n",
      " [2 4]]\n"
     ]
    }
   ],
   "source": [
    "arr1 = np.array([1, 2])\n",
    "arr2 = np.array([3, 4])\n",
    "result1 = np.c_[arr1, arr2]\n",
    "print(result1)"
   ]
  },
  {
   "cell_type": "markdown",
   "id": "31dcc46e-df4a-47f0-bba3-a88502b2caeb",
   "metadata": {},
   "source": [
    "### [문제33] 다음 코드의 출력 결과를 설명하시오. <br><br>\n",
    "import numpy as np<br>\n",
    "arr = np.array([[1, 2, 3], [4, 5, 6]])<br>\n",
    "print(arr[ : : 2, : : 2])<br><br>"
   ]
  },
  {
   "cell_type": "markdown",
   "id": "85e99805-9bfe-4e04-afb5-20288b9ff018",
   "metadata": {},
   "source": [
    " "
   ]
  },
  {
   "cell_type": "markdown",
   "id": "88d7819f-3fed-42b5-a401-c47ac5be5ab6",
   "metadata": {},
   "source": [
    "답) [[1, 3]] <br><br>\n",
    "step = 2이므로 첫 번째 행만 인덱싱되고 <br>\n",
    "step = 2이므로 첫 번째, 세 번째 열만 인덱싱된다.<br>"
   ]
  },
  {
   "cell_type": "code",
   "execution_count": 31,
   "id": "525976e5-48c0-43f9-b6ea-670e9d6a06ce",
   "metadata": {},
   "outputs": [
    {
     "name": "stdout",
     "output_type": "stream",
     "text": [
      "[[1 3]]\n"
     ]
    }
   ],
   "source": [
    "import numpy as np\n",
    "arr = np.array([[1, 2, 3], [4, 5, 6]])\n",
    "print(arr[ : : 2, : : 2]) # start, stop, step "
   ]
  },
  {
   "cell_type": "markdown",
   "id": "1f1d5575-e8bc-40a3-ad63-d82d6722df06",
   "metadata": {},
   "source": [
    " "
   ]
  },
  {
   "cell_type": "markdown",
   "id": "ad270bf3-9b44-46f1-a643-cf1bf7e13b47",
   "metadata": {},
   "source": [
    "### [문제34] 다음 코드 중 올바르지 않은 부분을 고르세요. <br><br>\n",
    "import numpy as np<br>\n",
    "arr1 = np.arange(10).reshape(2, 5)<br>\n",
    "arr2 = np.arange(15).reshape(3, 5)<br>\n",
    "result = arr1 + arr2<br><br>"
   ]
  },
  {
   "cell_type": "markdown",
   "id": "6c47cf36-a8a1-4efe-b9fe-38ebed5e85c4",
   "metadata": {},
   "source": [
    " "
   ]
  },
  {
   "cell_type": "markdown",
   "id": "24178e0c-fedf-4f17-88d1-e7fe1ea0cc2c",
   "metadata": {},
   "source": [
    "답) 크기가 다른 배열끼리 덧셈이 성립할 수 없으므로, arr1과 arr2의 차원을 맞춰 줘야 한다."
   ]
  },
  {
   "cell_type": "code",
   "execution_count": 32,
   "id": "785819f2-56b6-4377-b1b5-e1e4c9bb1516",
   "metadata": {},
   "outputs": [],
   "source": [
    "# import numpy as np\n",
    "# arr1 = np.arange(10).reshape(2, 5)\n",
    "# arr2 = np.arange(15).reshape(3, 5)\n",
    "# result = arr1 + arr2\n",
    "\n",
    "# ---------------------------------------------------------------------------\n",
    "# ValueError                                Traceback (most recent call last)\n",
    "# Cell In[109], line 4\n",
    "#       2 arr1 = np.arange(10).reshape(2, 5)\n",
    "#       3 arr2 = np.arange(15).reshape(3, 5)\n",
    "# ----> 4 result = arr1 + arr2\n",
    "\n",
    "# ValueError: operands could not be broadcast together with shapes (2,5) (3,5) "
   ]
  },
  {
   "cell_type": "markdown",
   "id": "aa0504cb-2d99-4eca-80cb-ea5dd8402026",
   "metadata": {},
   "source": [
    " "
   ]
  },
  {
   "cell_type": "markdown",
   "id": "febc1ba9-5c1b-40e7-b17f-0ac834c38ff2",
   "metadata": {},
   "source": [
    "### [문제35] 다음 코드 중 올바르지 않은 부분을 고르시오. <br><br>\n",
    "import numpy as np<br>\n",
    "arr1 = np.array([[1, 2], [3, 4]])<br>\n",
    "arr2 = np.array([[5, 6]])<br>\n",
    "combined = np.concatenate((arr1, arr2), axis=1)<br><br>"
   ]
  },
  {
   "cell_type": "markdown",
   "id": "4472ba00-f0d2-4569-9a3b-5fb2ddd87ccd",
   "metadata": {},
   "source": [
    " "
   ]
  },
  {
   "cell_type": "markdown",
   "id": "abfc7a79-e624-4bee-a843-5ecf015403c5",
   "metadata": {},
   "source": [
    "답) combined = np.concatenate((arr1, arr2), axis=1)<br>\n",
    "np.concatenate로 2행 2열의 배열과 1행 2열의 배열끼리 수평으로(열 방향으로) 결합시킬 수 없다."
   ]
  },
  {
   "cell_type": "code",
   "execution_count": 33,
   "id": "70db4520-da0d-428a-9be1-ce4cc4df8c32",
   "metadata": {},
   "outputs": [],
   "source": [
    "# import numpy as np\n",
    "# arr1 = np.array([[1, 2], [3, 4]])\n",
    "# arr2 = np.array([[5, 6]])\n",
    "# combined = np.concatenate((arr1, arr2), axis= 1)\n",
    "\n",
    "# ValueError: all the input array dimensions except for the concatenation axis must match exactly, \n",
    "# but along dimension 0, the array at index 0 has size 2 and the array at index 1 has size 1"
   ]
  },
  {
   "cell_type": "markdown",
   "id": "e8ac428e-8e25-47c6-9dfd-b7f9ab0e2f64",
   "metadata": {},
   "source": [
    " "
   ]
  },
  {
   "cell_type": "markdown",
   "id": "37264214-73d3-4278-b19a-0f3c35f7b63a",
   "metadata": {},
   "source": [
    "### [문제36] 1부터 10까지의 숫자를 포함하는 1차원 배열을 생성하고, 배열의 평균, 최댓값, 최솟값을 계산하는 코드를 작성하시오."
   ]
  },
  {
   "cell_type": "markdown",
   "id": "a00822f9-0493-401e-b1b6-5fd0b7c9a6f5",
   "metadata": {},
   "source": [
    " "
   ]
  },
  {
   "cell_type": "markdown",
   "id": "af4feb04-4f89-49b8-9971-fb13d1b2cafa",
   "metadata": {},
   "source": [
    "답) <br>\n",
    "arr = np.arange(1,11) <br>\n",
    "arr.mean(), arr.max(), arr.min() # 평균, 최댓값, 최솟값"
   ]
  },
  {
   "cell_type": "code",
   "execution_count": 34,
   "id": "863b5e29-1bae-4dd0-8b12-49b94da9cf2c",
   "metadata": {},
   "outputs": [
    {
     "name": "stdout",
     "output_type": "stream",
     "text": [
      "arr is [ 1  2  3  4  5  6  7  8  9 10] \n",
      "\n",
      "arr.mean() is 5.5\n",
      "arr.max() is 10\n",
      "arr.mean() is 5.5\n"
     ]
    }
   ],
   "source": [
    "arr = np.arange(1,11)\n",
    "print(f'arr is {arr} \\n')\n",
    "print(f'arr.mean() is {arr.mean()}') # 평균\n",
    "print(f'arr.max() is {arr.max()}') # 최댓값\n",
    "print(f'arr.mean() is {arr.mean()}') # 최솟값"
   ]
  },
  {
   "cell_type": "markdown",
   "id": "610dc6cf-ff64-4017-90d8-30b5a5897f5d",
   "metadata": {},
   "source": [
    " "
   ]
  },
  {
   "cell_type": "markdown",
   "id": "84a10cfa-ab9d-4165-ba7a-2c93ffaed0a9",
   "metadata": {},
   "source": [
    "### [문제37] 3 × 3 크기의 배열을 생성하고, 배열의 2행 2열 성분만 0으로 설정하는 코드를 작성하시오."
   ]
  },
  {
   "cell_type": "markdown",
   "id": "4cfc28a2-3f13-4c1d-a66c-4edee96b7769",
   "metadata": {},
   "source": [
    " "
   ]
  },
  {
   "cell_type": "markdown",
   "id": "40dec8ba-2486-4afd-a169-177fb0a791d2",
   "metadata": {},
   "source": [
    "답) <br>\n",
    "arr = np.arange(1,10).reshape(3,3) # 1 ~ 9까지의 초깃값을 가지는 3 x 3 크기의 배열 생성 <br>\n",
    "arr[1][1] = 0 # 2번째 행, 2번째 열을 0으로 설정"
   ]
  },
  {
   "cell_type": "markdown",
   "id": "ab0ade55-4a8d-4544-a91b-d0eb38af803d",
   "metadata": {},
   "source": [
    " "
   ]
  },
  {
   "cell_type": "code",
   "execution_count": 35,
   "id": "4c8f5686-6fa3-44b8-8efb-2a9808e113a4",
   "metadata": {},
   "outputs": [
    {
     "name": "stdout",
     "output_type": "stream",
     "text": [
      "arr is [[1 2 3]\n",
      " [4 0 6]\n",
      " [7 8 9]]\n"
     ]
    }
   ],
   "source": [
    "arr = np.arange(1,10).reshape(3,3)\n",
    "arr[1][1] = 0 \n",
    "print(f'arr is {arr}')"
   ]
  },
  {
   "cell_type": "markdown",
   "id": "7f922b85-9940-48d7-8ec5-9f49a71c13aa",
   "metadata": {},
   "source": [
    " "
   ]
  },
  {
   "cell_type": "markdown",
   "id": "9c330ea7-afba-4eed-a396-3b4ffd79ca75",
   "metadata": {},
   "source": [
    "# 끝! "
   ]
  }
 ],
 "metadata": {
  "kernelspec": {
   "display_name": "Python 3 (ipykernel)",
   "language": "python",
   "name": "python3"
  },
  "language_info": {
   "codemirror_mode": {
    "name": "ipython",
    "version": 3
   },
   "file_extension": ".py",
   "mimetype": "text/x-python",
   "name": "python",
   "nbconvert_exporter": "python",
   "pygments_lexer": "ipython3",
   "version": "3.12.4"
  }
 },
 "nbformat": 4,
 "nbformat_minor": 5
}
