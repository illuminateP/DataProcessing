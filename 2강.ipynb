{
 "cells": [
  {
   "cell_type": "code",
   "execution_count": 1,
   "id": "c81b3f47-5399-4e48-b24e-cfbda3d0c9d4",
   "metadata": {},
   "outputs": [],
   "source": [
    "import numpy as np"
   ]
  },
  {
   "cell_type": "markdown",
   "id": "3bda5ae2-0846-456b-adfb-ae4bb505e8eb",
   "metadata": {},
   "source": [
    "### 배열의 index"
   ]
  },
  {
   "cell_type": "code",
   "execution_count": 2,
   "id": "2d8053dd-dde3-4711-bce3-da37c74f2a8d",
   "metadata": {},
   "outputs": [],
   "source": [
    "arr = np.array([[1,2,3],[4,5,6],[7,8,9]])"
   ]
  },
  {
   "cell_type": "code",
   "execution_count": 3,
   "id": "2cc67816-c1f7-4193-b2b1-ea1eb43aa3e2",
   "metadata": {},
   "outputs": [
    {
     "data": {
      "text/plain": [
       "0.0"
      ]
     },
     "execution_count": 3,
     "metadata": {},
     "output_type": "execute_result"
    }
   ],
   "source": [
    "np.linalg.det(arr) # 비가역행렬"
   ]
  },
  {
   "cell_type": "code",
   "execution_count": 4,
   "id": "8a931994-8004-489a-a367-a11918ac3995",
   "metadata": {},
   "outputs": [
    {
     "data": {
      "text/plain": [
       "array([1, 2, 3])"
      ]
     },
     "execution_count": 4,
     "metadata": {},
     "output_type": "execute_result"
    }
   ],
   "source": [
    "arr[0] # 0행"
   ]
  },
  {
   "cell_type": "code",
   "execution_count": 5,
   "id": "4c5805e4-7bb0-4277-be26-f3d4664c8182",
   "metadata": {},
   "outputs": [
    {
     "data": {
      "text/plain": [
       "3"
      ]
     },
     "execution_count": 5,
     "metadata": {},
     "output_type": "execute_result"
    }
   ],
   "source": [
    "arr[0][2] # 0행 2열"
   ]
  },
  {
   "cell_type": "code",
   "execution_count": 6,
   "id": "1f529fea-b886-4151-a7c8-192c32bc9dcb",
   "metadata": {},
   "outputs": [
    {
     "data": {
      "text/plain": [
       "array([2, 5, 8])"
      ]
     },
     "execution_count": 6,
     "metadata": {},
     "output_type": "execute_result"
    }
   ],
   "source": [
    "arr[:, 1] # 1열만"
   ]
  },
  {
   "cell_type": "markdown",
   "id": "a08a5e36-0f0c-4421-abff-00693f03c796",
   "metadata": {},
   "source": [
    "★ 3차원 배열의 indexing을 할 수 있어야 한다"
   ]
  },
  {
   "cell_type": "code",
   "execution_count": 7,
   "id": "5a84a64f-d2ee-4a14-b6a8-c8dafbde0173",
   "metadata": {},
   "outputs": [],
   "source": [
    "arr_3d = np.array([[[0,1],[2,3],[4,5]],[[6,7],[8,9],[10,11]]])"
   ]
  },
  {
   "cell_type": "code",
   "execution_count": 8,
   "id": "67fe2401-a8eb-42a0-be36-f2baaaaaa5a0",
   "metadata": {},
   "outputs": [
    {
     "data": {
      "text/plain": [
       "5"
      ]
     },
     "execution_count": 8,
     "metadata": {},
     "output_type": "execute_result"
    }
   ],
   "source": [
    "arr_3d[0][2][1]"
   ]
  },
  {
   "cell_type": "markdown",
   "id": "a51cf7fd-8727-4b47-9c17-ca7c826191b1",
   "metadata": {},
   "source": [
    "### 괄호를 사용해 indexing 할 수 있다."
   ]
  },
  {
   "cell_type": "code",
   "execution_count": 9,
   "id": "12e19bc7-3ae4-4cdb-a2c2-1fb56af0a746",
   "metadata": {},
   "outputs": [
    {
     "data": {
      "text/plain": [
       "1"
      ]
     },
     "execution_count": 9,
     "metadata": {},
     "output_type": "execute_result"
    }
   ],
   "source": [
    "arr[0,0] # == arr[0][0]"
   ]
  },
  {
   "cell_type": "code",
   "execution_count": 10,
   "id": "d2d43048-6030-46a0-895e-8f006737f891",
   "metadata": {},
   "outputs": [
    {
     "data": {
      "text/plain": [
       "array([4, 5])"
      ]
     },
     "execution_count": 10,
     "metadata": {},
     "output_type": "execute_result"
    }
   ],
   "source": [
    "arr_3d[0,2,1] # == arr_3d[0][2][1]\n",
    "arr_3d[0,2]"
   ]
  },
  {
   "cell_type": "markdown",
   "id": "7d5b5911-da50-42f0-8928-6ebc1fb05cc9",
   "metadata": {},
   "source": [
    "### 배열의 slicing : np.array[시작: 끝 : 스텝]"
   ]
  },
  {
   "cell_type": "code",
   "execution_count": 11,
   "id": "aecfe9d5-8550-4f9a-873a-90b26090728a",
   "metadata": {},
   "outputs": [
    {
     "data": {
      "text/plain": [
       "array([[4, 5],\n",
       "       [7, 8]])"
      ]
     },
     "execution_count": 11,
     "metadata": {},
     "output_type": "execute_result"
    }
   ],
   "source": [
    "arr\n",
    "arr[1:,0:2] # 1행부터 끝까지, 0열부터 2열까지"
   ]
  },
  {
   "cell_type": "markdown",
   "id": "f3d40d39-a160-4eaf-8728-8f1fc7503205",
   "metadata": {},
   "source": [
    "### 논리 인덱싱"
   ]
  },
  {
   "cell_type": "code",
   "execution_count": 12,
   "id": "371809f0-ac20-4bf6-b45c-59b099c8372b",
   "metadata": {},
   "outputs": [
    {
     "data": {
      "text/plain": [
       "array([[False,  True, False,  True],\n",
       "       [False,  True, False,  True],\n",
       "       [False,  True, False,  True],\n",
       "       [False,  True, False,  True]])"
      ]
     },
     "execution_count": 12,
     "metadata": {},
     "output_type": "execute_result"
    }
   ],
   "source": [
    "np_array = np.array([[1,2,3,4],[5,6,7,8],[9,10,11,12],[13,14,15,16]])\n",
    "np_array % 2 == 0 # 논리 연산자"
   ]
  },
  {
   "cell_type": "markdown",
   "id": "6704c4bc-34a7-48d5-9331-0eab3b09d1db",
   "metadata": {},
   "source": [
    "[] -> 인덱스"
   ]
  },
  {
   "cell_type": "code",
   "execution_count": 13,
   "id": "0bb90b01-de76-4d74-a0b0-e862ff8905ab",
   "metadata": {},
   "outputs": [
    {
     "data": {
      "text/plain": [
       "array([ 2,  4,  6,  8, 10, 12, 14, 16])"
      ]
     },
     "execution_count": 13,
     "metadata": {},
     "output_type": "execute_result"
    }
   ],
   "source": [
    "np_array[np_array % 2 == 0] # 배열의 원소 중 조건을 만족하는 값만 출력"
   ]
  },
  {
   "cell_type": "markdown",
   "id": "b2c8a9a1-a35f-442b-870c-0f5994e29019",
   "metadata": {},
   "source": [
    "### 배열의 최대/최소/평균은 배열.메서드 형태로 제공된다."
   ]
  },
  {
   "cell_type": "markdown",
   "id": "af0da445-9e68-49eb-b546-afd64ddc306e",
   "metadata": {},
   "source": [
    "결과값은 튜플로 출력된다."
   ]
  },
  {
   "cell_type": "code",
   "execution_count": 70,
   "id": "a8d77f15-f12a-4764-bd79-3c52be043e17",
   "metadata": {},
   "outputs": [
    {
     "data": {
      "text/plain": [
       "array([[ 1,  2,  3,  4],\n",
       "       [ 5,  6,  7,  8],\n",
       "       [ 9, 10, 11, 12],\n",
       "       [13, 14, 15, 16]])"
      ]
     },
     "execution_count": 70,
     "metadata": {},
     "output_type": "execute_result"
    }
   ],
   "source": [
    "np_array"
   ]
  },
  {
   "cell_type": "code",
   "execution_count": 14,
   "id": "c9159460-8a81-4d22-b451-b6731ce437ba",
   "metadata": {},
   "outputs": [
    {
     "data": {
      "text/plain": [
       "(16, 1, 8.5)"
      ]
     },
     "execution_count": 14,
     "metadata": {},
     "output_type": "execute_result"
    }
   ],
   "source": [
    "np_array.max(), np_array.min(),np_array.mean()\n",
    "# 최댓값, 최솟값, 평균"
   ]
  },
  {
   "cell_type": "markdown",
   "id": "a304ec5e-983b-4d6b-8abe-d2ca5e465865",
   "metadata": {},
   "source": [
    "### 배열.astype() : 자료형 변경"
   ]
  },
  {
   "cell_type": "code",
   "execution_count": 15,
   "id": "d9ca669f-3e20-4839-8cc4-04049dffd7a0",
   "metadata": {},
   "outputs": [
    {
     "data": {
      "text/plain": [
       "array([[ 1.,  2.,  3.,  4.],\n",
       "       [ 5.,  6.,  7.,  8.],\n",
       "       [ 9., 10., 11., 12.],\n",
       "       [13., 14., 15., 16.]])"
      ]
     },
     "execution_count": 15,
     "metadata": {},
     "output_type": "execute_result"
    }
   ],
   "source": [
    "np_array.astype(np.float64)"
   ]
  },
  {
   "cell_type": "markdown",
   "id": "576f3eb2-da4b-40ff-9b49-d3c5c90c6ef8",
   "metadata": {},
   "source": [
    "### 배열.flatten() : 전부 1차원 배열로 변환"
   ]
  },
  {
   "cell_type": "code",
   "execution_count": 16,
   "id": "ee0fc4b1-6ce8-4a8b-8445-e6c7a45ef10d",
   "metadata": {},
   "outputs": [
    {
     "data": {
      "text/plain": [
       "array([1, 1, 2, 2, 3, 3])"
      ]
     },
     "execution_count": 16,
     "metadata": {},
     "output_type": "execute_result"
    }
   ],
   "source": [
    "a = np.array([[1,1],[2,2],[3,3]])\n",
    "a.flatten()"
   ]
  },
  {
   "cell_type": "markdown",
   "id": "b1b8adaf-5634-485d-942c-9cf127787533",
   "metadata": {},
   "source": [
    "### 배열.T : 전치행렬 구하기"
   ]
  },
  {
   "cell_type": "code",
   "execution_count": 17,
   "id": "f106f4d5-1d2c-4e5d-9338-60758b004dc7",
   "metadata": {},
   "outputs": [
    {
     "data": {
      "text/plain": [
       "array([[1, 2, 3],\n",
       "       [1, 2, 3]])"
      ]
     },
     "execution_count": 17,
     "metadata": {},
     "output_type": "execute_result"
    }
   ],
   "source": [
    "a.T"
   ]
  },
  {
   "cell_type": "code",
   "execution_count": 18,
   "id": "9b70a68a-52db-4e73-89a9-9ff4659596b7",
   "metadata": {},
   "outputs": [
    {
     "name": "stdout",
     "output_type": "stream",
     "text": [
      "(3,)\n",
      "(3,)\n"
     ]
    }
   ],
   "source": [
    "b = np.array([1,2,3])\n",
    "c = b.T\n",
    "print(np.shape(b))\n",
    "print(np.shape(c))\n",
    "# 행 벡터와 열 벡터를 구분하지 않음"
   ]
  },
  {
   "cell_type": "markdown",
   "id": "738d375b-6ccb-4ac0-b23b-ed8adc773058",
   "metadata": {},
   "source": [
    "### 정렬"
   ]
  },
  {
   "cell_type": "markdown",
   "id": "d826cb3e-f415-4560-bc30-c84555cefcca",
   "metadata": {},
   "source": [
    "리스트 : Timsort 사용"
   ]
  },
  {
   "cell_type": "code",
   "execution_count": 19,
   "id": "a34215ef-fefc-4706-90b1-ad0633db2930",
   "metadata": {},
   "outputs": [
    {
     "data": {
      "text/plain": [
       "[1, 4, 5, 5, 7, 8, 8, 8, 8]"
      ]
     },
     "execution_count": 19,
     "metadata": {},
     "output_type": "execute_result"
    }
   ],
   "source": [
    "li = [1,5,5,7,8,8,8,4,8]\n",
    "li.sort() # default : 오름차순 , method : Timsort\n",
    "li"
   ]
  },
  {
   "cell_type": "markdown",
   "id": "258a6e91-27f6-44f0-b34d-bf7626edf8d0",
   "metadata": {},
   "source": [
    "배열 : Quicksort 사용, default : 오름차순"
   ]
  },
  {
   "cell_type": "code",
   "execution_count": 20,
   "id": "e1dbc4e9-a067-401f-9fe3-44ac3ba4adbe",
   "metadata": {},
   "outputs": [],
   "source": [
    "arr = np.array([1,5,5,7,8,8,8,4,8])\n",
    "arr_sorted = np.sort(arr) "
   ]
  },
  {
   "cell_type": "markdown",
   "id": "6743537f-d607-4058-929b-3184578d8235",
   "metadata": {},
   "source": [
    "★ 내림차순 정렬하려면 오름차순으로 정렬 후 배열.flip()로 뒤집어야 한다."
   ]
  },
  {
   "cell_type": "code",
   "execution_count": 21,
   "id": "1d2d81f9-fec1-4402-ba35-0033b7b5595e",
   "metadata": {},
   "outputs": [
    {
     "name": "stdout",
     "output_type": "stream",
     "text": [
      "[1 4 5 5 7 8 8 8 8]\n",
      "[8 8 8 8 7 5 5 4 1]\n"
     ]
    }
   ],
   "source": [
    "b = np.sort(arr)\n",
    "print(b)\n",
    "c = np.flip(b)\n",
    "print(c)"
   ]
  },
  {
   "cell_type": "markdown",
   "id": "96a186e3-9eab-4b3d-9406-ba5df5c10177",
   "metadata": {},
   "source": [
    "혹은, 오름차순으로 정렬한 배열을 거꾸로 인덱싱해서 사용한다."
   ]
  },
  {
   "cell_type": "code",
   "execution_count": 22,
   "id": "bad80db7-7e95-42af-9dcf-8bde3489ce2d",
   "metadata": {},
   "outputs": [
    {
     "data": {
      "text/plain": [
       "array([8, 8, 8, 8, 7, 5, 5, 4, 1])"
      ]
     },
     "execution_count": 22,
     "metadata": {},
     "output_type": "execute_result"
    }
   ],
   "source": [
    "np.sort(arr)[::-1]"
   ]
  },
  {
   "cell_type": "code",
   "execution_count": 23,
   "id": "c0519ef7-f732-4019-9711-a8ab30888053",
   "metadata": {},
   "outputs": [
    {
     "data": {
      "text/plain": [
       "array([[23, 35, 50],\n",
       "       [19, 43, 71],\n",
       "       [ 0,  3,  7]])"
      ]
     },
     "execution_count": 23,
     "metadata": {},
     "output_type": "execute_result"
    }
   ],
   "source": [
    "a = np.array([[35,23,50],[71,43,19],[3,0,7]])\n",
    "a.sort(axis = 1) # 오름차순 정렬, default = 1(열 방향 == 행 단위 정렬)\n",
    "a\n"
   ]
  },
  {
   "cell_type": "code",
   "execution_count": 24,
   "id": "99681ac7-405e-4a56-9206-321c4191ad04",
   "metadata": {},
   "outputs": [
    {
     "data": {
      "text/plain": [
       "array([[ 3,  0,  7],\n",
       "       [35, 23, 19],\n",
       "       [71, 43, 50]])"
      ]
     },
     "execution_count": 24,
     "metadata": {},
     "output_type": "execute_result"
    }
   ],
   "source": [
    "a = np.array([[35,23,50],[71,43,19],[3,0,7]])\n",
    "a.sort(axis = 0) # 내림차순 정렬, 행 방향 == 열 단위 정렬.\n",
    "a"
   ]
  },
  {
   "cell_type": "markdown",
   "id": "e49e1e12-4b84-4548-bbd0-4794607969f1",
   "metadata": {},
   "source": [
    "### 배열.append"
   ]
  },
  {
   "cell_type": "code",
   "execution_count": 25,
   "id": "4e352c32-9f0b-4190-ba0b-2f6eca9b7369",
   "metadata": {},
   "outputs": [
    {
     "name": "stdout",
     "output_type": "stream",
     "text": [
      "[1, 5, 5, 7]\n",
      "None\n"
     ]
    }
   ],
   "source": [
    "li = [1,5,5]\n",
    "li_1 = li.append(7) # 원본 배열을 변경하며, 새로운 배열을 리턴하지 않는다.\n",
    "print(li)\n",
    "print(li_1)"
   ]
  },
  {
   "cell_type": "code",
   "execution_count": 26,
   "id": "8dde1fb9-1494-4564-af12-67f9b4652655",
   "metadata": {},
   "outputs": [
    {
     "data": {
      "text/plain": [
       "array([1, 2, 3, 4, 5, 6, 7, 8, 9])"
      ]
     },
     "execution_count": 26,
     "metadata": {},
     "output_type": "execute_result"
    }
   ],
   "source": [
    "a = np.array([1,2,3])\n",
    "b = np.array([[4,5,6],[7,8,9]])\n",
    "# 축이 명시되어 있지 않으면 2차원 배열을 1차원으로 변경\n",
    "np.append(a,b)"
   ]
  },
  {
   "cell_type": "code",
   "execution_count": 27,
   "id": "ceaebe57-892e-4e37-ba9b-8d6e85947a5c",
   "metadata": {},
   "outputs": [
    {
     "data": {
      "text/plain": [
       "array([4, 5, 6, 7, 8, 9, 1, 2, 3])"
      ]
     },
     "execution_count": 27,
     "metadata": {},
     "output_type": "execute_result"
    }
   ],
   "source": [
    "np.append(b,a)"
   ]
  },
  {
   "cell_type": "code",
   "execution_count": 28,
   "id": "9754b320-d0d5-474a-aaa5-c3110e8bce8d",
   "metadata": {},
   "outputs": [
    {
     "data": {
      "text/plain": [
       "array([[1, 2, 3]])"
      ]
     },
     "execution_count": 28,
     "metadata": {},
     "output_type": "execute_result"
    }
   ],
   "source": [
    "a = np.array([1,2,3]) # 1차원 배열\n",
    "np.array([a]) # 2차원 배열"
   ]
  },
  {
   "cell_type": "code",
   "execution_count": 29,
   "id": "e41b9740-6518-4ca3-acf2-720dcb6a04d4",
   "metadata": {},
   "outputs": [
    {
     "data": {
      "text/plain": [
       "array([[1, 2, 3],\n",
       "       [4, 5, 6],\n",
       "       [7, 8, 9]])"
      ]
     },
     "execution_count": 29,
     "metadata": {},
     "output_type": "execute_result"
    }
   ],
   "source": [
    "a = np.array([1,2,3])\n",
    "b = np.array([[4,5,6],[7,8,9]])\n",
    "np.append([a],b,axis = 0)"
   ]
  },
  {
   "cell_type": "markdown",
   "id": "b999a70d-6a23-4bba-89a3-c8f4b7772fbb",
   "metadata": {},
   "source": [
    "### 배열.reshape : 배열의 형태 변경"
   ]
  },
  {
   "cell_type": "code",
   "execution_count": 30,
   "id": "fabe7a04-d9a1-4266-8ce2-24bb22dd11ca",
   "metadata": {},
   "outputs": [],
   "source": [
    "y = np.arange(12)"
   ]
  },
  {
   "cell_type": "code",
   "execution_count": 31,
   "id": "c1a5010d-daea-42a7-8262-0c15ecc9f895",
   "metadata": {},
   "outputs": [
    {
     "data": {
      "text/plain": [
       "array([ 0,  1,  2,  3,  4,  5,  6,  7,  8,  9, 10, 11])"
      ]
     },
     "execution_count": 31,
     "metadata": {},
     "output_type": "execute_result"
    }
   ],
   "source": [
    "y"
   ]
  },
  {
   "cell_type": "code",
   "execution_count": 32,
   "id": "109e9bc9-c41e-4a36-a522-588a210d9c75",
   "metadata": {},
   "outputs": [
    {
     "data": {
      "text/plain": [
       "(12,)"
      ]
     },
     "execution_count": 32,
     "metadata": {},
     "output_type": "execute_result"
    }
   ],
   "source": [
    "np.shape(y)"
   ]
  },
  {
   "cell_type": "code",
   "execution_count": 33,
   "id": "600d8f96-91e8-4170-8373-0301a200b3c5",
   "metadata": {},
   "outputs": [
    {
     "data": {
      "text/plain": [
       "array([[ 0,  1,  2,  3],\n",
       "       [ 4,  5,  6,  7],\n",
       "       [ 8,  9, 10, 11]])"
      ]
     },
     "execution_count": 33,
     "metadata": {},
     "output_type": "execute_result"
    }
   ],
   "source": [
    "y.reshape(3,4) # 3행 3열로 변경, 원본 배열을 수정하지 않고 수정된 배열을 return."
   ]
  },
  {
   "cell_type": "code",
   "execution_count": 34,
   "id": "2765ffbc-7670-4ff4-87f0-7854a6963896",
   "metadata": {},
   "outputs": [
    {
     "data": {
      "text/plain": [
       "array([ 0,  1,  2,  3,  4,  5,  6,  7,  8,  9, 10, 11])"
      ]
     },
     "execution_count": 34,
     "metadata": {},
     "output_type": "execute_result"
    }
   ],
   "source": [
    "y"
   ]
  },
  {
   "cell_type": "code",
   "execution_count": 35,
   "id": "b9519088-0e35-4a8b-94ff-6058807e6e82",
   "metadata": {},
   "outputs": [
    {
     "data": {
      "text/plain": [
       "array([[ 0,  1],\n",
       "       [ 2,  3],\n",
       "       [ 4,  5],\n",
       "       [ 6,  7],\n",
       "       [ 8,  9],\n",
       "       [10, 11]])"
      ]
     },
     "execution_count": 35,
     "metadata": {},
     "output_type": "execute_result"
    }
   ],
   "source": [
    "y.reshape(6, -1) # -1 :  데이터의 개수에 맞춰 자동으로 형태 결정, 원본 배열을 수정하지 않고 수정된 배열을 return."
   ]
  },
  {
   "cell_type": "code",
   "execution_count": 36,
   "id": "53d56507-9833-456c-a280-3fb0c4977600",
   "metadata": {},
   "outputs": [
    {
     "data": {
      "text/plain": [
       "(12,)"
      ]
     },
     "execution_count": 36,
     "metadata": {},
     "output_type": "execute_result"
    }
   ],
   "source": [
    "np.shape(y)"
   ]
  },
  {
   "cell_type": "code",
   "execution_count": 37,
   "id": "d1672c98-3a4e-4caf-931c-1a9f885f9a61",
   "metadata": {},
   "outputs": [
    {
     "data": {
      "text/plain": [
       "array([[ True],\n",
       "       [ True],\n",
       "       [ True],\n",
       "       [ True],\n",
       "       [ True],\n",
       "       [ True],\n",
       "       [ True],\n",
       "       [ True],\n",
       "       [ True],\n",
       "       [ True],\n",
       "       [ True],\n",
       "       [ True]])"
      ]
     },
     "execution_count": 37,
     "metadata": {},
     "output_type": "execute_result"
    }
   ],
   "source": [
    "y.reshape(-1, 1) == y.reshape(12, 1)"
   ]
  },
  {
   "cell_type": "code",
   "execution_count": 38,
   "id": "f4e358de-2bc3-4935-9c34-fe5c1e20edf2",
   "metadata": {},
   "outputs": [],
   "source": [
    "#y.reshape(7,2) ##  ValueError:cannot reshape array of size 12 into shape (7,2)"
   ]
  },
  {
   "cell_type": "markdown",
   "id": "1b05173d-f744-42df-ba95-1ff85fe37ba7",
   "metadata": {},
   "source": [
    " "
   ]
  },
  {
   "cell_type": "markdown",
   "id": "21de94aa-1f9a-4dc2-807a-aff25be3afcd",
   "metadata": {},
   "source": [
    "## 배열의 결합 : concatenate, vstack, hstack"
   ]
  },
  {
   "cell_type": "markdown",
   "id": "7a01f989-1fba-4623-bcfe-b3ac245f69d8",
   "metadata": {},
   "source": [
    "### 배열끼리는 + 연산이 성립하므로 np.concatenate()를 통해 배열을 합쳐 줘야 한다."
   ]
  },
  {
   "cell_type": "code",
   "execution_count": 13,
   "id": "67fd51fc-ce06-4a3a-afd8-639a6231cc0f",
   "metadata": {},
   "outputs": [],
   "source": [
    "import numpy as np"
   ]
  },
  {
   "cell_type": "code",
   "execution_count": 15,
   "id": "2661a214-a1e9-4d76-95bb-05779a739604",
   "metadata": {},
   "outputs": [],
   "source": [
    "a = np.array([[1,2,3]])"
   ]
  },
  {
   "cell_type": "code",
   "execution_count": 17,
   "id": "a7ea6ce8-7dea-4552-b97f-9169bdbb8018",
   "metadata": {},
   "outputs": [],
   "source": [
    "b = np.array([[3,4,5]])"
   ]
  },
  {
   "cell_type": "code",
   "execution_count": 19,
   "id": "36a10d69-e300-4412-9e3a-a6ec719cc963",
   "metadata": {},
   "outputs": [
    {
     "data": {
      "text/plain": [
       "array([[1, 2, 3],\n",
       "       [3, 4, 5]])"
      ]
     },
     "execution_count": 19,
     "metadata": {},
     "output_type": "execute_result"
    }
   ],
   "source": [
    "np.concatenate((a, b)) # default : axis = None"
   ]
  },
  {
   "cell_type": "markdown",
   "id": "3b707415-0fd4-41e8-80ab-bb84c861c1c8",
   "metadata": {},
   "source": [
    "### 1차원 배열을 행방향으로 결합하려면 vstack를 사용해야 한다"
   ]
  },
  {
   "cell_type": "code",
   "execution_count": 42,
   "id": "7d1b161e-7417-4b48-a49e-d48ccdb00c12",
   "metadata": {},
   "outputs": [],
   "source": [
    "#np.concatenate((a, b), axis = 1) ##AxisError: axis 1 is out of bounds for array of dimension 1"
   ]
  },
  {
   "cell_type": "code",
   "execution_count": 43,
   "id": "13714953-93b9-4601-a181-1259d703973d",
   "metadata": {},
   "outputs": [
    {
     "data": {
      "text/plain": [
       "(3,)"
      ]
     },
     "execution_count": 43,
     "metadata": {},
     "output_type": "execute_result"
    }
   ],
   "source": [
    "np.shape(a) # 1차원 배열"
   ]
  },
  {
   "cell_type": "code",
   "execution_count": 44,
   "id": "71eb0d3c-0a95-4476-81e3-4ee3cb2ea3cb",
   "metadata": {},
   "outputs": [
    {
     "data": {
      "text/plain": [
       "(1, 3)"
      ]
     },
     "execution_count": 44,
     "metadata": {},
     "output_type": "execute_result"
    }
   ],
   "source": [
    "np.shape([a]) # [a] = 1행 2열의 2차원 배열"
   ]
  },
  {
   "cell_type": "code",
   "execution_count": 45,
   "id": "95ed062f-d06f-4992-b9df-23b6e0e4b2e6",
   "metadata": {},
   "outputs": [
    {
     "data": {
      "text/plain": [
       "array([[1, 2, 3],\n",
       "       [3, 4, 5]])"
      ]
     },
     "execution_count": 45,
     "metadata": {},
     "output_type": "execute_result"
    }
   ],
   "source": [
    "np.concatenate(([a],[b])) # default : 0, axis = 0, 열 방향 결합"
   ]
  },
  {
   "cell_type": "code",
   "execution_count": 46,
   "id": "e68e04ac-e199-481c-a83d-bec57f067e70",
   "metadata": {},
   "outputs": [
    {
     "data": {
      "text/plain": [
       "array([1, 2, 3, 3, 4, 5])"
      ]
     },
     "execution_count": 46,
     "metadata": {},
     "output_type": "execute_result"
    }
   ],
   "source": [
    "np.concatenate((a,b)) # ??"
   ]
  },
  {
   "cell_type": "markdown",
   "id": "acfbb051-e4cc-4ce8-bdc4-0799d455b20d",
   "metadata": {},
   "source": [
    "### np.concatenate로 리스트와 1차원 배열을 결합할 수 있다"
   ]
  },
  {
   "cell_type": "code",
   "execution_count": 47,
   "id": "11aaa29e-6e05-4a6b-ad77-0d6dd95401d6",
   "metadata": {},
   "outputs": [
    {
     "data": {
      "text/plain": [
       "array([3, 4, 5, 6, 7, 8])"
      ]
     },
     "execution_count": 47,
     "metadata": {},
     "output_type": "execute_result"
    }
   ],
   "source": [
    "c = [6,7,8]\n",
    "np.concatenate([b,c])"
   ]
  },
  {
   "cell_type": "code",
   "execution_count": null,
   "id": "eb72d3b0-bf01-429d-a994-ba358f00a0c3",
   "metadata": {},
   "outputs": [],
   "source": []
  },
  {
   "cell_type": "code",
   "execution_count": 48,
   "id": "8361029f-e943-4973-9672-69e622d07261",
   "metadata": {},
   "outputs": [],
   "source": [
    "a = np.arange(10,18).reshape(2,4)  \n",
    "b = np.arange(12).reshape(3,4)  \n",
    "c = np.arange(8).reshape(2,4)  \n",
    "d = list(range(4))"
   ]
  },
  {
   "cell_type": "code",
   "execution_count": 49,
   "id": "c2113345-74a9-4f2d-aa71-f07d24072e95",
   "metadata": {},
   "outputs": [
    {
     "data": {
      "text/plain": [
       "array([[10, 11, 12, 13],\n",
       "       [14, 15, 16, 17]])"
      ]
     },
     "execution_count": 49,
     "metadata": {},
     "output_type": "execute_result"
    }
   ],
   "source": [
    "a"
   ]
  },
  {
   "cell_type": "code",
   "execution_count": 50,
   "id": "74eb0481-c815-4b11-932d-0befa471d555",
   "metadata": {},
   "outputs": [
    {
     "data": {
      "text/plain": [
       "array([[ 0,  1,  2,  3],\n",
       "       [ 4,  5,  6,  7],\n",
       "       [ 8,  9, 10, 11]])"
      ]
     },
     "execution_count": 50,
     "metadata": {},
     "output_type": "execute_result"
    }
   ],
   "source": [
    "b"
   ]
  },
  {
   "cell_type": "code",
   "execution_count": 51,
   "id": "45f60824-b5ba-4fb0-9495-52764cf845f4",
   "metadata": {},
   "outputs": [
    {
     "data": {
      "text/plain": [
       "array([[0, 1, 2, 3],\n",
       "       [4, 5, 6, 7]])"
      ]
     },
     "execution_count": 51,
     "metadata": {},
     "output_type": "execute_result"
    }
   ],
   "source": [
    "c"
   ]
  },
  {
   "cell_type": "code",
   "execution_count": 52,
   "id": "be97e880-ebeb-4f5f-beec-8aadc2e1c04c",
   "metadata": {},
   "outputs": [
    {
     "data": {
      "text/plain": [
       "[0, 1, 2, 3]"
      ]
     },
     "execution_count": 52,
     "metadata": {},
     "output_type": "execute_result"
    }
   ],
   "source": [
    "d"
   ]
  },
  {
   "cell_type": "code",
   "execution_count": 53,
   "id": "fbad98ed-81a2-49f7-9392-5b4ef6d0cc0e",
   "metadata": {},
   "outputs": [
    {
     "data": {
      "text/plain": [
       "array([[10, 11, 12, 13],\n",
       "       [14, 15, 16, 17],\n",
       "       [ 0,  1,  2,  3],\n",
       "       [ 4,  5,  6,  7],\n",
       "       [ 8,  9, 10, 11]])"
      ]
     },
     "execution_count": 53,
     "metadata": {},
     "output_type": "execute_result"
    }
   ],
   "source": [
    "np.concatenate((a, b)) # default : axis = 0, 행 방향 결합"
   ]
  },
  {
   "cell_type": "code",
   "execution_count": 54,
   "id": "6155c14d-b789-4efb-be99-a3ada7d3dc54",
   "metadata": {},
   "outputs": [],
   "source": [
    "# np.concatenate((a,d), axis = 0) \n",
    "## ValueError: all the input arrays must have same number of dimensions, but the array at index 0 has 2 dimension(s) and the array at index 1 has 1 dimension(s)"
   ]
  },
  {
   "cell_type": "code",
   "execution_count": 55,
   "id": "6ff558b5-bbad-49cb-9b92-5ff093260107",
   "metadata": {},
   "outputs": [
    {
     "data": {
      "text/plain": [
       "array([[10, 11, 12, 13],\n",
       "       [14, 15, 16, 17],\n",
       "       [ 0,  1,  2,  3]])"
      ]
     },
     "execution_count": 55,
     "metadata": {},
     "output_type": "execute_result"
    }
   ],
   "source": [
    "np.concatenate((a,[d]),axis = 0)"
   ]
  },
  {
   "cell_type": "code",
   "execution_count": 56,
   "id": "9a830608-ff35-428e-abe3-d803b7570250",
   "metadata": {},
   "outputs": [],
   "source": [
    "# np.concatenate((a,[d]), axis = 1) \n",
    "## ValueError: all the input array dimensions except for the concatenation axis must match exactly, but along dimension 0, the array at index 0 has size 2 and the array at index 1 has size 1"
   ]
  },
  {
   "cell_type": "code",
   "execution_count": 57,
   "id": "b80d289e-9b5c-4d61-9f18-a496fdc824c9",
   "metadata": {},
   "outputs": [],
   "source": [
    "a = np.array([1,2,3])"
   ]
  },
  {
   "cell_type": "code",
   "execution_count": 58,
   "id": "2fa60694-ce14-4298-bfe6-31679121533a",
   "metadata": {},
   "outputs": [],
   "source": [
    "b = np.array([3,4,5])"
   ]
  },
  {
   "cell_type": "markdown",
   "id": "c5f4cc97-5b36-4353-94a6-af030783a193",
   "metadata": {},
   "source": [
    "### vstack : 행 방향, return np.concatnate()"
   ]
  },
  {
   "cell_type": "code",
   "execution_count": 59,
   "id": "c76f1976-a330-4d68-ba2e-ed07081437fb",
   "metadata": {},
   "outputs": [
    {
     "data": {
      "text/plain": [
       "array([1, 2, 3])"
      ]
     },
     "execution_count": 59,
     "metadata": {},
     "output_type": "execute_result"
    }
   ],
   "source": [
    "a"
   ]
  },
  {
   "cell_type": "code",
   "execution_count": 60,
   "id": "5fc64aee-dd89-43e4-aed4-fc051df9c924",
   "metadata": {},
   "outputs": [
    {
     "data": {
      "text/plain": [
       "array([3, 4, 5])"
      ]
     },
     "execution_count": 60,
     "metadata": {},
     "output_type": "execute_result"
    }
   ],
   "source": [
    "b"
   ]
  },
  {
   "cell_type": "code",
   "execution_count": 61,
   "id": "233d87ab-f7ad-4d1a-9f03-8213be427c53",
   "metadata": {},
   "outputs": [
    {
     "data": {
      "text/plain": [
       "array([[1, 2, 3],\n",
       "       [3, 4, 5]])"
      ]
     },
     "execution_count": 61,
     "metadata": {},
     "output_type": "execute_result"
    }
   ],
   "source": [
    "np.vstack([a, b]) # 행 방향 결합"
   ]
  },
  {
   "cell_type": "markdown",
   "id": "4a3fc449-c2b4-4ad4-a9ea-0688b6e4e361",
   "metadata": {},
   "source": [
    "배열과 리스트를 결합할 수 있다, 열의 개수가 같아야 결합 가능하다."
   ]
  },
  {
   "cell_type": "code",
   "execution_count": 62,
   "id": "9bf94112-0d4d-4960-a7f5-c512ed004303",
   "metadata": {
    "scrolled": true
   },
   "outputs": [],
   "source": [
    "# np.vstack((a,[3,4]))\n",
    "## all the input array dimensions except for the concatenation axis must match exactly, but along dimension 1, the array at index 0 has size 3 and the array at index 1 has size 2"
   ]
  },
  {
   "cell_type": "code",
   "execution_count": 63,
   "id": "980468c0-a322-42e8-843c-89fac28c6deb",
   "metadata": {},
   "outputs": [
    {
     "data": {
      "text/plain": [
       "array([[1, 2, 3],\n",
       "       [3, 4, 5]])"
      ]
     },
     "execution_count": 63,
     "metadata": {},
     "output_type": "execute_result"
    }
   ],
   "source": [
    "np.vstack((a,[3,4,5]))"
   ]
  },
  {
   "cell_type": "code",
   "execution_count": 64,
   "id": "c087551c-f6a8-466c-b761-d678fa0fb9c5",
   "metadata": {},
   "outputs": [
    {
     "data": {
      "text/plain": [
       "array([1, 2, 3, 3, 4, 5])"
      ]
     },
     "execution_count": 64,
     "metadata": {},
     "output_type": "execute_result"
    }
   ],
   "source": [
    "np.hstack([a,b]) # 열 방향 결합"
   ]
  },
  {
   "cell_type": "markdown",
   "id": "745d6ea4-05fe-4c11-bd80-d2722fc0ed61",
   "metadata": {},
   "source": [
    "### np.r_[] : 베열을  결합"
   ]
  },
  {
   "cell_type": "code",
   "execution_count": 65,
   "id": "2871b549-dd3e-4fdf-a968-5ee4d458c7c7",
   "metadata": {},
   "outputs": [],
   "source": [
    "a = np.array([1,2,3])  \n",
    "b = np.array([10,20,30])  \n",
    "c = np.array([[1,2,3],[4,5,6]])  \n",
    "d = np.array([[10,20,30],[40,50,60]])"
   ]
  },
  {
   "cell_type": "code",
   "execution_count": 66,
   "id": "1db9d00a-f4b6-4a72-a074-56d9c4d6232a",
   "metadata": {},
   "outputs": [
    {
     "data": {
      "text/plain": [
       "array([ 1,  2,  3, 10, 20, 30])"
      ]
     },
     "execution_count": 66,
     "metadata": {},
     "output_type": "execute_result"
    }
   ],
   "source": [
    "np.r_[a,b] # 1차원 배열로 결합"
   ]
  },
  {
   "cell_type": "code",
   "execution_count": 67,
   "id": "735bce78-955e-47ee-a801-ebdc031314b1",
   "metadata": {},
   "outputs": [
    {
     "data": {
      "text/plain": [
       "array([[ 1,  2,  3],\n",
       "       [10, 20, 30]])"
      ]
     },
     "execution_count": 67,
     "metadata": {},
     "output_type": "execute_result"
    }
   ],
   "source": [
    "np.r_[[a],[b]] # 2차원 배열끼리의 결합, 뭐가 충돌이라는 거지"
   ]
  },
  {
   "cell_type": "code",
   "execution_count": 68,
   "id": "07270f69-693e-4179-bfeb-eba6f7202833",
   "metadata": {},
   "outputs": [
    {
     "data": {
      "text/plain": [
       "array([ 1,  2,  3, 44, 66, 10, 20, 30])"
      ]
     },
     "execution_count": 68,
     "metadata": {},
     "output_type": "execute_result"
    }
   ],
   "source": [
    "np.r_[a,44,66,b] # 중간에 원소 삽입"
   ]
  },
  {
   "cell_type": "markdown",
   "id": "0dc401f7-8401-4ab2-bdb4-eb26e975a704",
   "metadata": {},
   "source": [
    "★ [문제] 다음 두 2차원 배열의 수평 또는 수직결합이 가능한가?<br>\n",
    "a=np.arange(5,1).reshape(2,3)  b=np.arange(4).reshape(2,2)  np.hstack(a,b)  np.vstack(a,b)  aray([5,6,7,0,1],  [8,9,10,2,3])<br> \n",
    "답: ValueEror"
   ]
  },
  {
   "cell_type": "markdown",
   "id": "72b9d3e1-47d5-497e-8373-563a39aacd13",
   "metadata": {},
   "source": [
    "### np.c_[] : 배열을 열벡터로 변환시켜서 결합"
   ]
  },
  {
   "cell_type": "code",
   "execution_count": 69,
   "id": "ff6e3745-68e1-4e00-b79a-8854ebf0cd69",
   "metadata": {},
   "outputs": [
    {
     "data": {
      "text/plain": [
       "array([[ 1, 10],\n",
       "       [ 2, 20],\n",
       "       [ 3, 30]])"
      ]
     },
     "execution_count": 69,
     "metadata": {},
     "output_type": "execute_result"
    }
   ],
   "source": [
    "np.c_[a,b] # 1차원 배열은 열벡터로 변환시켜서 결합하며, 그 결과는 2차원 배열이 된다"
   ]
  },
  {
   "cell_type": "markdown",
   "id": "8d21329f-fa0a-4da9-a81c-7989a6e319b1",
   "metadata": {},
   "source": [
    "##### c_함수와 column_stack 함수는 1차원벡터를 열벡터로 인식하여 연결한다 2차원부터는 hstack함수와 동일한 역할을 한다.각 배열의 행의 수가 같아야 한다"
   ]
  },
  {
   "cell_type": "code",
   "execution_count": null,
   "id": "ed87419b-e1de-4c51-9b53-30879c267c00",
   "metadata": {},
   "outputs": [],
   "source": []
  }
 ],
 "metadata": {
  "kernelspec": {
   "display_name": "Python 3 (ipykernel)",
   "language": "python",
   "name": "python3"
  },
  "language_info": {
   "codemirror_mode": {
    "name": "ipython",
    "version": 3
   },
   "file_extension": ".py",
   "mimetype": "text/x-python",
   "name": "python",
   "nbconvert_exporter": "python",
   "pygments_lexer": "ipython3",
   "version": "3.12.4"
  }
 },
 "nbformat": 4,
 "nbformat_minor": 5
}
